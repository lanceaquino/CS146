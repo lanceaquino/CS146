{
  "nbformat": 4,
  "nbformat_minor": 0,
  "metadata": {
    "colab": {
      "name": "CS146 LBA .ipynb",
      "provenance": [],
      "collapsed_sections": [],
      "authorship_tag": "ABX9TyO2pDjm/LRSQ94U9kq0+5Eh",
      "include_colab_link": true
    },
    "kernelspec": {
      "name": "python3",
      "display_name": "Python 3"
    }
  },
  "cells": [
    {
      "cell_type": "markdown",
      "metadata": {
        "id": "view-in-github",
        "colab_type": "text"
      },
      "source": [
        "<a href=\"https://colab.research.google.com/github/lanceaquino/CS146/blob/main/CS146_LBA_.ipynb\" target=\"_parent\"><img src=\"https://colab.research.google.com/assets/colab-badge.svg\" alt=\"Open In Colab\"/></a>"
      ]
    },
    {
      "cell_type": "markdown",
      "metadata": {
        "id": "d7fQdDnxFkxT"
      },
      "source": [
        "# CS146 LBA: Grocery Data \n",
        "\n",
        "For this assignment, we are going to look into the different grocery products at varying locations, grocery price level, and location. The different products will then be analyzed with respect to their average rental price. This can help us determine the relationship of the rental price to grocery product price. \n",
        "\n",
        "The products that will be analyzed will be: \n",
        "1. Apples\n",
        "2. Bananas \n",
        "3. Tomatoes \n",
        "4. Potatoes \n",
        "5. Flour, white \n",
        "6. Rice, basmati \n",
        "7. Milk, full cream \n",
        "8. Butter \n",
        "9. Eggs \n",
        "10. Chicken breasts \n",
        "\n"
      ]
    },
    {
      "cell_type": "markdown",
      "metadata": {
        "id": "N60vgi1vGa1J"
      },
      "source": [
        "## Data Pre-processing\n",
        "\n",
        "### Processing in Google Sheets\n",
        "\n",
        "Before the data is imported to Python, I made some edits in the google sheet by removing insignificant columns (e.g. name, date of submission, etc) and converted all the currencies to USD so we can easily analyze the values after import. \n",
        "\n",
        "### Processing in Python\n",
        "\n",
        "Here, we continue to make changes using Pandas. Please note that all prices are converted to USD "
      ]
    },
    {
      "cell_type": "code",
      "metadata": {
        "id": "WrXhN8S_IL0b"
      },
      "source": [
        "import pandas as pd \n",
        "import numpy as np \n",
        "import scipy.stats as sts\n",
        "import matplotlib.pyplot as plt \n",
        "import pystan \n",
        "import seaborn as sns\n"
      ],
      "execution_count": 1,
      "outputs": []
    },
    {
      "cell_type": "code",
      "metadata": {
        "colab": {
          "base_uri": "https://localhost:8080/",
          "height": 179
        },
        "id": "G_AkNF0L3xkY",
        "outputId": "b0a0f015-9b1c-4d16-d91b-a0af79455f78"
      },
      "source": [
        "df = pd.read_csv(\"https://docs.google.com/spreadsheets/d/e/2PACX-1vQ6wBw2rwqzHoKYTnvInezGV-SHluP5csWohoc918xVhNqPN5hxLyOHzoiaw3mHQHZkIai8m_0dFIpg/pub?gid=1523904063&single=true&output=csv\")\n",
        "\n",
        "# Clean data \n",
        "\n",
        "# Replace headers for easier data parsing \n",
        "headers = [\"country\", \"currency\", \"store_name\", \"price_perception\", \"avg_rental_price\",\n",
        "           \"quant_apples1\", \"price_apples1\", \"quant_apples2\", \"price_apples2\", \"quant_apples3\", \"price_apples3\",\n",
        "           \"quant_bananas1\", \"price_bananas1\", \"quant_bananas2\", \"price_bananas2\", \"quant_bananas3\", \"price_bananas3\",\n",
        "           \"quant_tomatoes1\", \"price_tomatoes1\", \"quant_tomatoes2\", \"price_tomatoes2\", \"quant_tomatoes3\", \"price_tomatoes3\", \n",
        "           \"quant_potatoes1\", \"price_potatoes1\", \"quant_potatoes2\", \"price_potatoes2\", \"quant_potatoes3\", \"price_potatoes3\",\n",
        "           \"quant_flour1\", \"price_flour1\", \"quant_flour2\", \"price_flour2\", \"quant_flour3\", \"price_flour3\", \n",
        "           \"quant_rice1\", \"price_rice1\", \"quant_rice2\", \"price_rice2\", \"quant_rice3\", \"price_rice3\", \n",
        "           \"quant_milk1\", \"price_milk1\", \"quant_milk2\", \"price_milk2\", \"quant_milk3\", \"price_milk3\",\n",
        "           \"quant_butter1\", \"price_butter1\", \"quant_butter2\", \"price_butter2\", \"quant_butter3\", \"price_butter3\", \n",
        "           \"quant_eggs1\", \"price_eggs1\", \"quant_eggs2\", \"price_eggs2\", \"quant_eggs3\", \"price_eggs3\",\n",
        "           \"quant_chicken1\", \"price_chicken1\", \"quant_chicken2\", \"price_chicken2\", \"quant_chicken3\", \"price_chicken3\"]\n",
        "\n",
        "df.columns = headers\n",
        "\n",
        "# Adjust price perception of each stores \n",
        "price_levels = {\"Budget (cheap)\" : \"cheap\", \"Mid-range\" : \"mid\", \"Luxury (expensive)\" : \"expensive\"}\n",
        "new_price_perception = {\"price_perception\" : price_levels}\n",
        "df.replace(new_price_perception, inplace = True)\n",
        "\n",
        "# Adjust countries \n",
        "diff_countries = {\"Canada\" : \"Canada\", \"United States\" : \"US\", \"USA\" : \"US\", \"Sweden\": \"Sweden\", \n",
        "                  \"Ukraine\" : \"Ukraine\", \"USA\" : \"US\", \"US\" : \"US\", \"USA (San Francisco)\" : \"US\", \"Kenya\" : \"Kenya\", \n",
        "                  \"Brazil\" : \"Brazil\", \"United States of America\" : \"US\", \"Dallas, TX, USA\" : \"US\", \"San Francisco, USA\" : \"US\",\n",
        "                  \"San Francisco\" : \"US\", \"United States \" : \"US\", \"Bangladesh\" : \"Bangladesh\", \"San Francisco, United States\" : \"US\"}\n",
        "keys_diff_counties = {'country' : diff_countries}\n",
        "df.replace(keys_diff_counties, inplace= True)\n",
        "\n",
        "# Adjust outlier with unique input for price perception \n",
        "df.iloc[30, 3]  = 'expensive'\n",
        "\n",
        "# Show first three data points \n",
        "df.head(n = 3)\n"
      ],
      "execution_count": 2,
      "outputs": [
        {
          "output_type": "execute_result",
          "data": {
            "text/html": [
              "<div>\n",
              "<style scoped>\n",
              "    .dataframe tbody tr th:only-of-type {\n",
              "        vertical-align: middle;\n",
              "    }\n",
              "\n",
              "    .dataframe tbody tr th {\n",
              "        vertical-align: top;\n",
              "    }\n",
              "\n",
              "    .dataframe thead th {\n",
              "        text-align: right;\n",
              "    }\n",
              "</style>\n",
              "<table border=\"1\" class=\"dataframe\">\n",
              "  <thead>\n",
              "    <tr style=\"text-align: right;\">\n",
              "      <th></th>\n",
              "      <th>country</th>\n",
              "      <th>currency</th>\n",
              "      <th>store_name</th>\n",
              "      <th>price_perception</th>\n",
              "      <th>avg_rental_price</th>\n",
              "      <th>quant_apples1</th>\n",
              "      <th>price_apples1</th>\n",
              "      <th>quant_apples2</th>\n",
              "      <th>price_apples2</th>\n",
              "      <th>quant_apples3</th>\n",
              "      <th>price_apples3</th>\n",
              "      <th>quant_bananas1</th>\n",
              "      <th>price_bananas1</th>\n",
              "      <th>quant_bananas2</th>\n",
              "      <th>price_bananas2</th>\n",
              "      <th>quant_bananas3</th>\n",
              "      <th>price_bananas3</th>\n",
              "      <th>quant_tomatoes1</th>\n",
              "      <th>price_tomatoes1</th>\n",
              "      <th>quant_tomatoes2</th>\n",
              "      <th>price_tomatoes2</th>\n",
              "      <th>quant_tomatoes3</th>\n",
              "      <th>price_tomatoes3</th>\n",
              "      <th>quant_potatoes1</th>\n",
              "      <th>price_potatoes1</th>\n",
              "      <th>quant_potatoes2</th>\n",
              "      <th>price_potatoes2</th>\n",
              "      <th>quant_potatoes3</th>\n",
              "      <th>price_potatoes3</th>\n",
              "      <th>quant_flour1</th>\n",
              "      <th>price_flour1</th>\n",
              "      <th>quant_flour2</th>\n",
              "      <th>price_flour2</th>\n",
              "      <th>quant_flour3</th>\n",
              "      <th>price_flour3</th>\n",
              "      <th>quant_rice1</th>\n",
              "      <th>price_rice1</th>\n",
              "      <th>quant_rice2</th>\n",
              "      <th>price_rice2</th>\n",
              "      <th>quant_rice3</th>\n",
              "      <th>price_rice3</th>\n",
              "      <th>quant_milk1</th>\n",
              "      <th>price_milk1</th>\n",
              "      <th>quant_milk2</th>\n",
              "      <th>price_milk2</th>\n",
              "      <th>quant_milk3</th>\n",
              "      <th>price_milk3</th>\n",
              "      <th>quant_butter1</th>\n",
              "      <th>price_butter1</th>\n",
              "      <th>quant_butter2</th>\n",
              "      <th>price_butter2</th>\n",
              "      <th>quant_butter3</th>\n",
              "      <th>price_butter3</th>\n",
              "      <th>quant_eggs1</th>\n",
              "      <th>price_eggs1</th>\n",
              "      <th>quant_eggs2</th>\n",
              "      <th>price_eggs2</th>\n",
              "      <th>quant_eggs3</th>\n",
              "      <th>price_eggs3</th>\n",
              "      <th>quant_chicken1</th>\n",
              "      <th>price_chicken1</th>\n",
              "      <th>quant_chicken2</th>\n",
              "      <th>price_chicken2</th>\n",
              "      <th>quant_chicken3</th>\n",
              "      <th>price_chicken3</th>\n",
              "    </tr>\n",
              "  </thead>\n",
              "  <tbody>\n",
              "    <tr>\n",
              "      <th>0</th>\n",
              "      <td>Canada</td>\n",
              "      <td>CAD</td>\n",
              "      <td>Thrifty's</td>\n",
              "      <td>cheap</td>\n",
              "      <td>1162.53025</td>\n",
              "      <td>1.360</td>\n",
              "      <td>3.808289</td>\n",
              "      <td>1.360</td>\n",
              "      <td>4.000708</td>\n",
              "      <td>1.360</td>\n",
              "      <td>3.808289</td>\n",
              "      <td>0.19</td>\n",
              "      <td>0.264576</td>\n",
              "      <td>0.18</td>\n",
              "      <td>0.376820</td>\n",
              "      <td>0.08</td>\n",
              "      <td>0.280611</td>\n",
              "      <td>0.230</td>\n",
              "      <td>1.419089</td>\n",
              "      <td>0.454</td>\n",
              "      <td>4.802453</td>\n",
              "      <td>0.18</td>\n",
              "      <td>2.220834</td>\n",
              "      <td>0.100</td>\n",
              "      <td>0.352768</td>\n",
              "      <td>0.10</td>\n",
              "      <td>0.352768</td>\n",
              "      <td>1.00</td>\n",
              "      <td>2.469375</td>\n",
              "      <td>2.500</td>\n",
              "      <td>6.005070</td>\n",
              "      <td>2.50</td>\n",
              "      <td>3.198963</td>\n",
              "      <td>10.00</td>\n",
              "      <td>11.216413</td>\n",
              "      <td>1.60</td>\n",
              "      <td>10.414668</td>\n",
              "      <td>0.24</td>\n",
              "      <td>3.599835</td>\n",
              "      <td>0.907</td>\n",
              "      <td>4.241231</td>\n",
              "      <td>2.00</td>\n",
              "      <td>5.203325</td>\n",
              "      <td>4.00</td>\n",
              "      <td>5.203325</td>\n",
              "      <td>1.50</td>\n",
              "      <td>4.241231</td>\n",
              "      <td>0.454</td>\n",
              "      <td>3.599835</td>\n",
              "      <td>0.454</td>\n",
              "      <td>5.203325</td>\n",
              "      <td>0.454</td>\n",
              "      <td>6.005070</td>\n",
              "      <td>18.0</td>\n",
              "      <td>7.255792</td>\n",
              "      <td>18.0</td>\n",
              "      <td>6.566292</td>\n",
              "      <td>12.0</td>\n",
              "      <td>4.610034</td>\n",
              "      <td>0.400</td>\n",
              "      <td>7.416141</td>\n",
              "      <td>0.600</td>\n",
              "      <td>13.028356</td>\n",
              "      <td>0.780</td>\n",
              "      <td>13.084478</td>\n",
              "    </tr>\n",
              "    <tr>\n",
              "      <th>1</th>\n",
              "      <td>Canada</td>\n",
              "      <td>CAD</td>\n",
              "      <td>Save on Foods</td>\n",
              "      <td>cheap</td>\n",
              "      <td>1242.70475</td>\n",
              "      <td>0.100</td>\n",
              "      <td>0.529152</td>\n",
              "      <td>0.100</td>\n",
              "      <td>0.352768</td>\n",
              "      <td>0.100</td>\n",
              "      <td>0.705536</td>\n",
              "      <td>0.10</td>\n",
              "      <td>0.136297</td>\n",
              "      <td>0.10</td>\n",
              "      <td>0.160349</td>\n",
              "      <td>0.10</td>\n",
              "      <td>0.529152</td>\n",
              "      <td>0.100</td>\n",
              "      <td>0.529152</td>\n",
              "      <td>0.100</td>\n",
              "      <td>0.617344</td>\n",
              "      <td>0.10</td>\n",
              "      <td>0.529152</td>\n",
              "      <td>0.100</td>\n",
              "      <td>0.248541</td>\n",
              "      <td>0.10</td>\n",
              "      <td>0.352768</td>\n",
              "      <td>0.10</td>\n",
              "      <td>0.144314</td>\n",
              "      <td>10.000</td>\n",
              "      <td>10.414668</td>\n",
              "      <td>2.00</td>\n",
              "      <td>8.009433</td>\n",
              "      <td>1.00</td>\n",
              "      <td>4.000708</td>\n",
              "      <td>0.10</td>\n",
              "      <td>0.232506</td>\n",
              "      <td>4.54</td>\n",
              "      <td>16.026883</td>\n",
              "      <td>2.000</td>\n",
              "      <td>8.009433</td>\n",
              "      <td>1.00</td>\n",
              "      <td>3.359312</td>\n",
              "      <td>1.00</td>\n",
              "      <td>2.084537</td>\n",
              "      <td>4.00</td>\n",
              "      <td>4.241231</td>\n",
              "      <td>0.454</td>\n",
              "      <td>3.519661</td>\n",
              "      <td>0.454</td>\n",
              "      <td>4.561929</td>\n",
              "      <td>0.454</td>\n",
              "      <td>6.165419</td>\n",
              "      <td>12.0</td>\n",
              "      <td>4.369510</td>\n",
              "      <td>12.0</td>\n",
              "      <td>6.005070</td>\n",
              "      <td>12.0</td>\n",
              "      <td>6.165419</td>\n",
              "      <td>3.000</td>\n",
              "      <td>18.504275</td>\n",
              "      <td>0.100</td>\n",
              "      <td>0.970111</td>\n",
              "      <td>0.500</td>\n",
              "      <td>9.709132</td>\n",
              "    </tr>\n",
              "    <tr>\n",
              "      <th>2</th>\n",
              "      <td>US</td>\n",
              "      <td>USD</td>\n",
              "      <td>Target</td>\n",
              "      <td>mid</td>\n",
              "      <td>2996.00000</td>\n",
              "      <td>1.361</td>\n",
              "      <td>4.690000</td>\n",
              "      <td>1.361</td>\n",
              "      <td>3.590000</td>\n",
              "      <td>1.361</td>\n",
              "      <td>2.990000</td>\n",
              "      <td>0.91</td>\n",
              "      <td>1.790000</td>\n",
              "      <td>0.12</td>\n",
              "      <td>0.250000</td>\n",
              "      <td>NaN</td>\n",
              "      <td>NaN</td>\n",
              "      <td>0.454</td>\n",
              "      <td>3.190000</td>\n",
              "      <td>0.454</td>\n",
              "      <td>1.290000</td>\n",
              "      <td>0.30</td>\n",
              "      <td>2.990000</td>\n",
              "      <td>2.268</td>\n",
              "      <td>2.590000</td>\n",
              "      <td>0.68</td>\n",
              "      <td>4.990000</td>\n",
              "      <td>0.68</td>\n",
              "      <td>3.990000</td>\n",
              "      <td>2.268</td>\n",
              "      <td>3.690000</td>\n",
              "      <td>0.91</td>\n",
              "      <td>1.890000</td>\n",
              "      <td>0.91</td>\n",
              "      <td>10.990000</td>\n",
              "      <td>0.24</td>\n",
              "      <td>1.390000</td>\n",
              "      <td>0.85</td>\n",
              "      <td>5.990000</td>\n",
              "      <td>0.910</td>\n",
              "      <td>3.290000</td>\n",
              "      <td>1.89</td>\n",
              "      <td>2.190000</td>\n",
              "      <td>1.89</td>\n",
              "      <td>1.990000</td>\n",
              "      <td>1.67</td>\n",
              "      <td>3.990000</td>\n",
              "      <td>0.430</td>\n",
              "      <td>2.290000</td>\n",
              "      <td>0.450</td>\n",
              "      <td>3.690000</td>\n",
              "      <td>0.370</td>\n",
              "      <td>5.290000</td>\n",
              "      <td>12.0</td>\n",
              "      <td>1.690000</td>\n",
              "      <td>18.0</td>\n",
              "      <td>2.390000</td>\n",
              "      <td>12.0</td>\n",
              "      <td>3.990000</td>\n",
              "      <td>0.454</td>\n",
              "      <td>5.990000</td>\n",
              "      <td>1.134</td>\n",
              "      <td>8.590000</td>\n",
              "      <td>1.814</td>\n",
              "      <td>8.490000</td>\n",
              "    </tr>\n",
              "  </tbody>\n",
              "</table>\n",
              "</div>"
            ],
            "text/plain": [
              "  country currency  ... quant_chicken3 price_chicken3\n",
              "0  Canada      CAD  ...          0.780      13.084478\n",
              "1  Canada      CAD  ...          0.500       9.709132\n",
              "2      US      USD  ...          1.814       8.490000\n",
              "\n",
              "[3 rows x 65 columns]"
            ]
          },
          "metadata": {
            "tags": []
          },
          "execution_count": 2
        }
      ]
    },
    {
      "cell_type": "markdown",
      "metadata": {
        "id": "Wr7AC7R07D_i"
      },
      "source": [
        "### Overview of the data that we have "
      ]
    },
    {
      "cell_type": "code",
      "metadata": {
        "colab": {
          "base_uri": "https://localhost:8080/"
        },
        "id": "kAtNojaz359i",
        "outputId": "7d6ae15c-4fe2-4dc4-9c02-6216926bb221"
      },
      "source": [
        "print(\"Total data points:\", df.shape[0])\n",
        "print(\"--\")\n",
        "\n",
        "print(\"Number of data points per country:\")\n",
        "for country in df['country'].unique():\n",
        "  print(country,\":\", len(df[df['country'] == country]))\n",
        "print(\"--\")\n",
        "\n",
        "print(\"Currencies:\", df['currency'].unique(), 'Total:', df['currency'].nunique())\n",
        "print(\"--\")\n",
        "\n",
        "print(\"Countries:\", df['country'].unique(), 'Total:', df['country'].nunique())\n",
        "print(\"Price Categories:\", df['price_perception'].unique(), 'Total:', df['price_perception'].nunique())"
      ],
      "execution_count": 3,
      "outputs": [
        {
          "output_type": "stream",
          "text": [
            "Total data points: 53\n",
            "--\n",
            "Number of data points per country:\n",
            "Canada : 2\n",
            "US : 38\n",
            "Sweden : 2\n",
            "Ukraine : 4\n",
            "Kenya : 1\n",
            "Brazil : 4\n",
            "Bangladesh : 2\n",
            "--\n",
            "Currencies: ['CAD' 'USD' 'SEK' 'UAH' 'KES' 'BRL' 'BDT'] Total: 7\n",
            "--\n",
            "Countries: ['Canada' 'US' 'Sweden' 'Ukraine' 'Kenya' 'Brazil' 'Bangladesh'] Total: 7\n",
            "Price Categories: ['cheap' 'mid' 'expensive'] Total: 3\n"
          ],
          "name": "stdout"
        }
      ]
    },
    {
      "cell_type": "markdown",
      "metadata": {
        "id": "--9kHWfY7Vtb"
      },
      "source": [
        "### Modifying data set to only allow one product per row \n",
        "\n",
        "Here, we are going to shift the data set into having only one product per row. This allows us to easily input the data in the Stan model. "
      ]
    },
    {
      "cell_type": "code",
      "metadata": {
        "colab": {
          "base_uri": "https://localhost:8080/",
          "height": 419
        },
        "id": "Ls68sRvXy4E4",
        "outputId": "4378b721-5bd9-4d8a-c379-52dad76a2ab0"
      },
      "source": [
        "# Create new columns for the newly formed data frame \n",
        "new_cols = [['country', 'category', 'product', 'quantity', 'price']]\n",
        "\n",
        "# Craete list to keep track of the products that we are currently inputing \n",
        "products = ['apples','bananas','tomatoes','potatoes','flour','rice','milk','butter','eggs','chicken']\n",
        "\n",
        "# Acquire total dimensions\n",
        "# Our method is that we are getting one product with respective country and price category\n",
        "# 10 products * 3 categories \n",
        "n = 30\n",
        "\n",
        "# We shift the data set with their respective product rows \n",
        "for i in range(df.shape[0]*n):\n",
        "    product = products[i // 3 % 10]\n",
        "    new_cols.append([df.iloc[i//n]['country'],\n",
        "                  df.iloc[i//n]['price_perception'], product,\n",
        "                  df.iloc[i//n][i%n*2 + 5], df.iloc[i//n][i%n*2 + 6]])\n",
        "    \n",
        "# Create new data frame for the newly formed columns \n",
        "new_df = pd.DataFrame(new_cols[1:],columns=new_cols[0])\n",
        "new_df "
      ],
      "execution_count": 4,
      "outputs": [
        {
          "output_type": "execute_result",
          "data": {
            "text/html": [
              "<div>\n",
              "<style scoped>\n",
              "    .dataframe tbody tr th:only-of-type {\n",
              "        vertical-align: middle;\n",
              "    }\n",
              "\n",
              "    .dataframe tbody tr th {\n",
              "        vertical-align: top;\n",
              "    }\n",
              "\n",
              "    .dataframe thead th {\n",
              "        text-align: right;\n",
              "    }\n",
              "</style>\n",
              "<table border=\"1\" class=\"dataframe\">\n",
              "  <thead>\n",
              "    <tr style=\"text-align: right;\">\n",
              "      <th></th>\n",
              "      <th>country</th>\n",
              "      <th>category</th>\n",
              "      <th>product</th>\n",
              "      <th>quantity</th>\n",
              "      <th>price</th>\n",
              "    </tr>\n",
              "  </thead>\n",
              "  <tbody>\n",
              "    <tr>\n",
              "      <th>0</th>\n",
              "      <td>Canada</td>\n",
              "      <td>cheap</td>\n",
              "      <td>apples</td>\n",
              "      <td>1.36</td>\n",
              "      <td>3.808289</td>\n",
              "    </tr>\n",
              "    <tr>\n",
              "      <th>1</th>\n",
              "      <td>Canada</td>\n",
              "      <td>cheap</td>\n",
              "      <td>apples</td>\n",
              "      <td>1.36</td>\n",
              "      <td>4.000708</td>\n",
              "    </tr>\n",
              "    <tr>\n",
              "      <th>2</th>\n",
              "      <td>Canada</td>\n",
              "      <td>cheap</td>\n",
              "      <td>apples</td>\n",
              "      <td>1.36</td>\n",
              "      <td>3.808289</td>\n",
              "    </tr>\n",
              "    <tr>\n",
              "      <th>3</th>\n",
              "      <td>Canada</td>\n",
              "      <td>cheap</td>\n",
              "      <td>bananas</td>\n",
              "      <td>0.19</td>\n",
              "      <td>0.264576</td>\n",
              "    </tr>\n",
              "    <tr>\n",
              "      <th>4</th>\n",
              "      <td>Canada</td>\n",
              "      <td>cheap</td>\n",
              "      <td>bananas</td>\n",
              "      <td>0.18</td>\n",
              "      <td>0.376820</td>\n",
              "    </tr>\n",
              "    <tr>\n",
              "      <th>...</th>\n",
              "      <td>...</td>\n",
              "      <td>...</td>\n",
              "      <td>...</td>\n",
              "      <td>...</td>\n",
              "      <td>...</td>\n",
              "    </tr>\n",
              "    <tr>\n",
              "      <th>1585</th>\n",
              "      <td>US</td>\n",
              "      <td>mid</td>\n",
              "      <td>eggs</td>\n",
              "      <td>1.00</td>\n",
              "      <td>0.400000</td>\n",
              "    </tr>\n",
              "    <tr>\n",
              "      <th>1586</th>\n",
              "      <td>US</td>\n",
              "      <td>mid</td>\n",
              "      <td>eggs</td>\n",
              "      <td>1.00</td>\n",
              "      <td>0.230000</td>\n",
              "    </tr>\n",
              "    <tr>\n",
              "      <th>1587</th>\n",
              "      <td>US</td>\n",
              "      <td>mid</td>\n",
              "      <td>chicken</td>\n",
              "      <td>0.45</td>\n",
              "      <td>3.490000</td>\n",
              "    </tr>\n",
              "    <tr>\n",
              "      <th>1588</th>\n",
              "      <td>US</td>\n",
              "      <td>mid</td>\n",
              "      <td>chicken</td>\n",
              "      <td>0.45</td>\n",
              "      <td>7.990000</td>\n",
              "    </tr>\n",
              "    <tr>\n",
              "      <th>1589</th>\n",
              "      <td>US</td>\n",
              "      <td>mid</td>\n",
              "      <td>chicken</td>\n",
              "      <td>0.45</td>\n",
              "      <td>2.990000</td>\n",
              "    </tr>\n",
              "  </tbody>\n",
              "</table>\n",
              "<p>1590 rows × 5 columns</p>\n",
              "</div>"
            ],
            "text/plain": [
              "     country category  product  quantity     price\n",
              "0     Canada    cheap   apples      1.36  3.808289\n",
              "1     Canada    cheap   apples      1.36  4.000708\n",
              "2     Canada    cheap   apples      1.36  3.808289\n",
              "3     Canada    cheap  bananas      0.19  0.264576\n",
              "4     Canada    cheap  bananas      0.18  0.376820\n",
              "...      ...      ...      ...       ...       ...\n",
              "1585      US      mid     eggs      1.00  0.400000\n",
              "1586      US      mid     eggs      1.00  0.230000\n",
              "1587      US      mid  chicken      0.45  3.490000\n",
              "1588      US      mid  chicken      0.45  7.990000\n",
              "1589      US      mid  chicken      0.45  2.990000\n",
              "\n",
              "[1590 rows x 5 columns]"
            ]
          },
          "metadata": {
            "tags": []
          },
          "execution_count": 4
        }
      ]
    },
    {
      "cell_type": "code",
      "metadata": {
        "colab": {
          "base_uri": "https://localhost:8080/",
          "height": 436
        },
        "id": "GflKQi2SzArK",
        "outputId": "55ca7cdd-46ae-4f38-dbc4-07f537001064"
      },
      "source": [
        "\n",
        "# Since we already have one product per row, we can just remove the rows with no values \n",
        "# by basically dropping them \n",
        "new_df.dropna(inplace=True)\n",
        "\n",
        "# Dropping rows doesn't change index and therefore we need to reset our index\n",
        "new_df.reset_index(drop=True, inplace=True)\n",
        "\n",
        "# We also add a new column that has a standardized price\n",
        "# Here, we are getting the price per quantity (e.g. price/kilo, price/liter, price/count)\n",
        "new_df['unit_cost'] = new_df['price'] / new_df['quantity']\n",
        "new_df\n",
        "\n"
      ],
      "execution_count": 5,
      "outputs": [
        {
          "output_type": "stream",
          "text": [
            "INFO:numexpr.utils:NumExpr defaulting to 2 threads.\n"
          ],
          "name": "stderr"
        },
        {
          "output_type": "execute_result",
          "data": {
            "text/html": [
              "<div>\n",
              "<style scoped>\n",
              "    .dataframe tbody tr th:only-of-type {\n",
              "        vertical-align: middle;\n",
              "    }\n",
              "\n",
              "    .dataframe tbody tr th {\n",
              "        vertical-align: top;\n",
              "    }\n",
              "\n",
              "    .dataframe thead th {\n",
              "        text-align: right;\n",
              "    }\n",
              "</style>\n",
              "<table border=\"1\" class=\"dataframe\">\n",
              "  <thead>\n",
              "    <tr style=\"text-align: right;\">\n",
              "      <th></th>\n",
              "      <th>country</th>\n",
              "      <th>category</th>\n",
              "      <th>product</th>\n",
              "      <th>quantity</th>\n",
              "      <th>price</th>\n",
              "      <th>unit_cost</th>\n",
              "    </tr>\n",
              "  </thead>\n",
              "  <tbody>\n",
              "    <tr>\n",
              "      <th>0</th>\n",
              "      <td>Canada</td>\n",
              "      <td>cheap</td>\n",
              "      <td>apples</td>\n",
              "      <td>1.36</td>\n",
              "      <td>3.808289</td>\n",
              "      <td>2.800212</td>\n",
              "    </tr>\n",
              "    <tr>\n",
              "      <th>1</th>\n",
              "      <td>Canada</td>\n",
              "      <td>cheap</td>\n",
              "      <td>apples</td>\n",
              "      <td>1.36</td>\n",
              "      <td>4.000708</td>\n",
              "      <td>2.941697</td>\n",
              "    </tr>\n",
              "    <tr>\n",
              "      <th>2</th>\n",
              "      <td>Canada</td>\n",
              "      <td>cheap</td>\n",
              "      <td>apples</td>\n",
              "      <td>1.36</td>\n",
              "      <td>3.808289</td>\n",
              "      <td>2.800212</td>\n",
              "    </tr>\n",
              "    <tr>\n",
              "      <th>3</th>\n",
              "      <td>Canada</td>\n",
              "      <td>cheap</td>\n",
              "      <td>bananas</td>\n",
              "      <td>0.19</td>\n",
              "      <td>0.264576</td>\n",
              "      <td>1.392504</td>\n",
              "    </tr>\n",
              "    <tr>\n",
              "      <th>4</th>\n",
              "      <td>Canada</td>\n",
              "      <td>cheap</td>\n",
              "      <td>bananas</td>\n",
              "      <td>0.18</td>\n",
              "      <td>0.376820</td>\n",
              "      <td>2.093445</td>\n",
              "    </tr>\n",
              "    <tr>\n",
              "      <th>...</th>\n",
              "      <td>...</td>\n",
              "      <td>...</td>\n",
              "      <td>...</td>\n",
              "      <td>...</td>\n",
              "      <td>...</td>\n",
              "      <td>...</td>\n",
              "    </tr>\n",
              "    <tr>\n",
              "      <th>1378</th>\n",
              "      <td>US</td>\n",
              "      <td>mid</td>\n",
              "      <td>eggs</td>\n",
              "      <td>1.00</td>\n",
              "      <td>0.400000</td>\n",
              "      <td>0.400000</td>\n",
              "    </tr>\n",
              "    <tr>\n",
              "      <th>1379</th>\n",
              "      <td>US</td>\n",
              "      <td>mid</td>\n",
              "      <td>eggs</td>\n",
              "      <td>1.00</td>\n",
              "      <td>0.230000</td>\n",
              "      <td>0.230000</td>\n",
              "    </tr>\n",
              "    <tr>\n",
              "      <th>1380</th>\n",
              "      <td>US</td>\n",
              "      <td>mid</td>\n",
              "      <td>chicken</td>\n",
              "      <td>0.45</td>\n",
              "      <td>3.490000</td>\n",
              "      <td>7.755556</td>\n",
              "    </tr>\n",
              "    <tr>\n",
              "      <th>1381</th>\n",
              "      <td>US</td>\n",
              "      <td>mid</td>\n",
              "      <td>chicken</td>\n",
              "      <td>0.45</td>\n",
              "      <td>7.990000</td>\n",
              "      <td>17.755556</td>\n",
              "    </tr>\n",
              "    <tr>\n",
              "      <th>1382</th>\n",
              "      <td>US</td>\n",
              "      <td>mid</td>\n",
              "      <td>chicken</td>\n",
              "      <td>0.45</td>\n",
              "      <td>2.990000</td>\n",
              "      <td>6.644444</td>\n",
              "    </tr>\n",
              "  </tbody>\n",
              "</table>\n",
              "<p>1383 rows × 6 columns</p>\n",
              "</div>"
            ],
            "text/plain": [
              "     country category  product  quantity     price  unit_cost\n",
              "0     Canada    cheap   apples      1.36  3.808289   2.800212\n",
              "1     Canada    cheap   apples      1.36  4.000708   2.941697\n",
              "2     Canada    cheap   apples      1.36  3.808289   2.800212\n",
              "3     Canada    cheap  bananas      0.19  0.264576   1.392504\n",
              "4     Canada    cheap  bananas      0.18  0.376820   2.093445\n",
              "...      ...      ...      ...       ...       ...        ...\n",
              "1378      US      mid     eggs      1.00  0.400000   0.400000\n",
              "1379      US      mid     eggs      1.00  0.230000   0.230000\n",
              "1380      US      mid  chicken      0.45  3.490000   7.755556\n",
              "1381      US      mid  chicken      0.45  7.990000  17.755556\n",
              "1382      US      mid  chicken      0.45  2.990000   6.644444\n",
              "\n",
              "[1383 rows x 6 columns]"
            ]
          },
          "metadata": {
            "tags": []
          },
          "execution_count": 5
        }
      ]
    },
    {
      "cell_type": "code",
      "metadata": {
        "colab": {
          "base_uri": "https://localhost:8080/",
          "height": 204
        },
        "id": "FBSjhyUp02Iu",
        "outputId": "1cf697a6-e54e-4b5b-b429-651a4f872676"
      },
      "source": [
        "# Add product, country and category code for easier parsing of the data \n",
        "# We incldue (+ 1) since Stan does indexing at 1 \n",
        "\n",
        "products = list(new_df['product'].unique())\n",
        "countries = list(new_df['country'].unique())\n",
        "categories = list(new_df['category'].unique())\n",
        "\n",
        "new_df['product_code'] = [products.index(i) + 1 for i in new_df['product']]\n",
        "new_df['country_code'] = [countries.index(i) + 1 for i in new_df['country']]\n",
        "new_df['category_code'] = [categories.index(i) + 1 for i in new_df['category']]\n",
        "new_df.sample(n = 5)"
      ],
      "execution_count": 6,
      "outputs": [
        {
          "output_type": "execute_result",
          "data": {
            "text/html": [
              "<div>\n",
              "<style scoped>\n",
              "    .dataframe tbody tr th:only-of-type {\n",
              "        vertical-align: middle;\n",
              "    }\n",
              "\n",
              "    .dataframe tbody tr th {\n",
              "        vertical-align: top;\n",
              "    }\n",
              "\n",
              "    .dataframe thead th {\n",
              "        text-align: right;\n",
              "    }\n",
              "</style>\n",
              "<table border=\"1\" class=\"dataframe\">\n",
              "  <thead>\n",
              "    <tr style=\"text-align: right;\">\n",
              "      <th></th>\n",
              "      <th>country</th>\n",
              "      <th>category</th>\n",
              "      <th>product</th>\n",
              "      <th>quantity</th>\n",
              "      <th>price</th>\n",
              "      <th>unit_cost</th>\n",
              "      <th>product_code</th>\n",
              "      <th>country_code</th>\n",
              "      <th>category_code</th>\n",
              "    </tr>\n",
              "  </thead>\n",
              "  <tbody>\n",
              "    <tr>\n",
              "      <th>606</th>\n",
              "      <td>US</td>\n",
              "      <td>mid</td>\n",
              "      <td>tomatoes</td>\n",
              "      <td>0.450</td>\n",
              "      <td>2.29</td>\n",
              "      <td>5.088889</td>\n",
              "      <td>3</td>\n",
              "      <td>2</td>\n",
              "      <td>2</td>\n",
              "    </tr>\n",
              "    <tr>\n",
              "      <th>1150</th>\n",
              "      <td>US</td>\n",
              "      <td>cheap</td>\n",
              "      <td>flour</td>\n",
              "      <td>0.453</td>\n",
              "      <td>0.99</td>\n",
              "      <td>2.185430</td>\n",
              "      <td>5</td>\n",
              "      <td>2</td>\n",
              "      <td>1</td>\n",
              "    </tr>\n",
              "    <tr>\n",
              "      <th>591</th>\n",
              "      <td>US</td>\n",
              "      <td>mid</td>\n",
              "      <td>butter</td>\n",
              "      <td>0.453</td>\n",
              "      <td>8.50</td>\n",
              "      <td>18.763797</td>\n",
              "      <td>8</td>\n",
              "      <td>2</td>\n",
              "      <td>2</td>\n",
              "    </tr>\n",
              "    <tr>\n",
              "      <th>543</th>\n",
              "      <td>US</td>\n",
              "      <td>cheap</td>\n",
              "      <td>bananas</td>\n",
              "      <td>1.000</td>\n",
              "      <td>1.69</td>\n",
              "      <td>1.690000</td>\n",
              "      <td>2</td>\n",
              "      <td>2</td>\n",
              "      <td>1</td>\n",
              "    </tr>\n",
              "    <tr>\n",
              "      <th>462</th>\n",
              "      <td>US</td>\n",
              "      <td>mid</td>\n",
              "      <td>apples</td>\n",
              "      <td>0.160</td>\n",
              "      <td>0.63</td>\n",
              "      <td>3.937500</td>\n",
              "      <td>1</td>\n",
              "      <td>2</td>\n",
              "      <td>2</td>\n",
              "    </tr>\n",
              "  </tbody>\n",
              "</table>\n",
              "</div>"
            ],
            "text/plain": [
              "     country category   product  ...  product_code  country_code  category_code\n",
              "606       US      mid  tomatoes  ...             3             2              2\n",
              "1150      US    cheap     flour  ...             5             2              1\n",
              "591       US      mid    butter  ...             8             2              2\n",
              "543       US    cheap   bananas  ...             2             2              1\n",
              "462       US      mid    apples  ...             1             2              2\n",
              "\n",
              "[5 rows x 9 columns]"
            ]
          },
          "metadata": {
            "tags": []
          },
          "execution_count": 6
        }
      ]
    },
    {
      "cell_type": "code",
      "metadata": {
        "id": "C5ceVVMHskJr"
      },
      "source": [
        "stan_code = '''\n",
        "\n",
        "data {\n",
        "    int<lower=1> num_units;                       // number of data points \n",
        "    real<lower=0> unit_cost[num_units];            // cost per unit \n",
        "    \n",
        "    int<lower=1> num_products;                    // number of products\n",
        "    int<lower=0> product_code[num_units];         // product code\n",
        "\n",
        "\n",
        "    int<lower=1> num_countries;                   // number of countries\n",
        "    int<lower=0> country_code[num_units];         // product code\n",
        "\n",
        "    int<lower=1> num_cats;                        // number of categories \n",
        "    int<lower=0> cat_code[num_units];             // category code\n",
        "}\n",
        "\n",
        "parameters {\n",
        "    real<lower=0> base_price[num_products];       // base price estimate\n",
        "    real<lower=0> cost_var;                       // base price variance \n",
        "    real<lower=0> scale_country[num_countries];   // multiplier for countries estimate\n",
        "    real<lower=0> scale_cat[num_cats];            // multiplier for categories estimate \n",
        "}\n",
        "\n",
        "model {\n",
        "    scale_country ~ normal(1,0.1);                // prior, not truncated because bounds have been set \n",
        "    scale_cat ~ normal(1,0.1);                    // prior\n",
        "\n",
        "    for(i in 1:num_units){\n",
        "        unit_cost[i] ~ normal(base_price[product_code[i]]*scale_country[country_code[i]]*scale_cat[cat_code[i]], sqrt(cost_var));\n",
        "    }  \n",
        "}\n",
        "'''"
      ],
      "execution_count": 7,
      "outputs": []
    },
    {
      "cell_type": "code",
      "metadata": {
        "colab": {
          "base_uri": "https://localhost:8080/"
        },
        "id": "GyQL7Ue_Cn0J",
        "outputId": "b1fdef28-5224-4db5-de46-62d7ab8a0512"
      },
      "source": [
        "#inputting data for stan model\n",
        "stan_data = {\n",
        "    'num_units': new_df.shape[0],\n",
        "    'unit_cost': list(new_df['unit_cost']),\n",
        "\n",
        "    'num_products': new_df['product'].nunique(),\n",
        "    'product_code': list(new_df['product_code']),\n",
        "\n",
        "    'num_countries': new_df['country'].nunique(),\n",
        "    'country_code': list(new_df['country_code']),\n",
        "\n",
        "    'num_cats': new_df['category'].nunique(),\n",
        "    'cat_code':list(new_df['category_code'])\n",
        "}\n",
        "\n",
        "# Implement Stan Model \n",
        "stan_model = pystan.StanModel(model_code=stan_code)\n",
        "\n",
        "# Generate Posterior Samples \n",
        "results = stan_model.sampling(data=stan_data)\n",
        "\n",
        "print(results)"
      ],
      "execution_count": 8,
      "outputs": [
        {
          "output_type": "stream",
          "text": [
            "INFO:pystan:COMPILING THE C++ CODE FOR MODEL anon_model_7ebd4dabca79545b106e26da37c8492e NOW.\n"
          ],
          "name": "stderr"
        },
        {
          "output_type": "stream",
          "text": [
            "Inference for Stan model: anon_model_7ebd4dabca79545b106e26da37c8492e.\n",
            "4 chains, each with iter=2000; warmup=1000; thin=1; \n",
            "post-warmup draws per chain=1000, total post-warmup draws=4000.\n",
            "\n",
            "                   mean se_mean     sd   2.5%    25%    50%    75%  97.5%  n_eff   Rhat\n",
            "base_price[1]      4.72    0.02   0.52   3.77   4.36    4.7   5.05   5.81   1059    1.0\n",
            "base_price[2]      2.48  9.7e-3   0.41   1.71   2.21   2.47   2.74   3.35   1761    1.0\n",
            "base_price[3]      5.94    0.02    0.6   4.84   5.53   5.91   6.33   7.21   1021    1.0\n",
            "base_price[4]      3.02    0.01   0.42   2.27   2.72   2.99   3.29   3.89   1594    1.0\n",
            "base_price[5]      3.04    0.01   0.41   2.29   2.76   3.01   3.31    3.9   1491    1.0\n",
            "base_price[6]      4.93    0.02   0.53   3.98   4.58   4.92   5.27   6.04   1057    1.0\n",
            "base_price[7]      2.01  8.4e-3   0.37   1.32   1.77    2.0   2.26   2.78   1923    1.0\n",
            "base_price[8]     12.95    0.04   1.15  10.89  12.14  12.88  13.68  15.36    827    1.0\n",
            "base_price[9]      0.68  5.8e-3   0.31   0.13   0.45   0.65   0.88   1.31   2779    1.0\n",
            "base_price[10]    10.69    0.03   0.97   8.95  10.03  10.64  11.31  12.75    828    1.0\n",
            "cost_var          12.98  7.7e-3    0.5  12.03  12.63  12.96   13.3  13.99   4257    1.0\n",
            "scale_country[1]   1.22  1.3e-3   0.08   1.07   1.16   1.22   1.27   1.36   3127    1.0\n",
            "scale_country[2]   1.14  1.8e-3   0.06   1.02    1.1   1.14   1.18   1.25   1125    1.0\n",
            "scale_country[3]    1.1  1.4e-3   0.07   0.96   1.05    1.1   1.15   1.24   2857    1.0\n",
            "scale_country[4]   0.75  1.3e-3   0.06   0.64   0.71   0.75   0.79   0.87   2127    1.0\n",
            "scale_country[5]   0.94  1.5e-3   0.08   0.78   0.89   0.94    1.0   1.11   2982    1.0\n",
            "scale_country[6]   0.72  1.3e-3   0.07   0.59   0.67   0.72   0.76   0.85   2636    1.0\n",
            "scale_country[7]   0.82  1.4e-3   0.08   0.67   0.76   0.82   0.87   0.96   2928    1.0\n",
            "scale_cat[1]       0.76  1.7e-3   0.06   0.65   0.72   0.76    0.8   0.87   1079    1.0\n",
            "scale_cat[2]       0.87  1.9e-3   0.06   0.75   0.83   0.87   0.91   0.99   1039    1.0\n",
            "scale_cat[3]       1.19  2.3e-3   0.08   1.04   1.14   1.19   1.24   1.34   1144    1.0\n",
            "lp__              -2468    0.08   3.29  -2475  -2470  -2467  -2465  -2462   1617    1.0\n",
            "\n",
            "Samples were drawn using NUTS at Mon Mar 15 20:59:26 2021.\n",
            "For each parameter, n_eff is a crude measure of effective sample size,\n",
            "and Rhat is the potential scale reduction factor on split chains (at \n",
            "convergence, Rhat=1).\n"
          ],
          "name": "stdout"
        }
      ]
    },
    {
      "cell_type": "code",
      "metadata": {
        "id": "Exzmqu1YtSlZ"
      },
      "source": [
        "# We extract the values of interests from the results of the stan model \n",
        "# Here, we are acquiring the mean, sd, and upper and lower bounds \n",
        "# ofthe 95% confidence interval \n",
        "\n",
        "base_prices = np.array([[i[0], i[2], i[3], i[7]] \n",
        "                       for i in results.summary()['summary'][0:len(products)]])\n",
        "\n",
        "country_scales = np.array([[i[0], i[2], i[3], i[7]]\n",
        "                       for i in results.summary()['summary']\n",
        "                       [len(products)+1:len(products)+1+len(countries)]])\n",
        "\n",
        "category_scales = np.array([[i[0], i[2], i[3], i[7]]\n",
        "                       for i in results.summary()['summary']\n",
        "                       [len(products)+len(countries)+1:-1]])"
      ],
      "execution_count": 14,
      "outputs": []
    },
    {
      "cell_type": "code",
      "metadata": {
        "colab": {
          "base_uri": "https://localhost:8080/",
          "height": 497
        },
        "id": "QL4DC2Q1aT4N",
        "outputId": "506dbb9e-fd27-4d38-a5ea-6b97a45a220f"
      },
      "source": [
        "# Plotting Base Prices \n",
        "\n",
        "product_err = []\n",
        "\n",
        "for point in range(base_prices.shape[0]):\n",
        "  mean = base_prices[point,0]\n",
        "  product_err.append((mean - base_prices[point,2], base_prices[point,3] - mean))\n",
        "\n",
        "product_err = np.array(product_err)\n",
        "\n",
        "plt.figure(figsize = (13,8))\n",
        "# plt.title(\"Base Product Price with 95% Confidence Interval Error Bar\")\n",
        "plt.xlabel(\"Products\")\n",
        "plt.ylabel(\"Price ($)\")\n",
        "product_bar = plt.bar(products, base_prices[:,0], yerr = product_err.transpose(), color = 'orange',\n",
        "        capsize = 5)\n",
        "# for i in range(len(products)):\n",
        "#     plt.annotate(np.around(base_prices[:,0][i], 2), (base_prices[:, 0][i], i))\n",
        "\n",
        "def autolabel(bar_data):\n",
        "    \"\"\"\n",
        "    This function automatically adds the label of the bar graphs \n",
        "    based on the height and width of the bar graphs \n",
        "\n",
        "    Input:\n",
        "      bar_data - the plt result of the bar graph \n",
        "\n",
        "    Output:\n",
        "      Annotations \n",
        "    \"\"\"\n",
        "    for data in bar_data:\n",
        "        height = data.get_height()\n",
        "        plt.annotate(f'${np.round(height, 2)}',\n",
        "                    xy=(data.get_x() + data.get_width() / 2 + 0.3, height),\n",
        "                    xytext=(0, 3),  # 3 points vertical offset\n",
        "                    textcoords=\"offset points\",\n",
        "                    ha='center', va='bottom')\n",
        "        \n",
        "autolabel(product_bar)"
      ],
      "execution_count": 23,
      "outputs": [
        {
          "output_type": "display_data",
          "data": {
            "image/png": "[encoded data removed]",
            "text/plain": [
              "<Figure size 936x576 with 1 Axes>"
            ]
          },
          "metadata": {
            "tags": [],
            "needs_background": "light"
          }
        }
      ]
    },
    {
      "cell_type": "code",
      "metadata": {
        "colab": {
          "base_uri": "https://localhost:8080/",
          "height": 388
        },
        "id": "UX76aJziCsKc",
        "outputId": "778e9ebb-c882-4260-dd1d-36691823d22d"
      },
      "source": [
        "plt.figure(figsize=(12,6))\n",
        "\n",
        "for i in range(len(products)):\n",
        "    plt.plot(sts.uniform.rvs(loc = i+0.8, scale = 0.4, size = 4000), \n",
        "             results['base_price'][:,i], \n",
        "             ',', alpha = 0.3)\n",
        "    \n",
        "    plt.plot(range(1, 1 + len(products))[i],\n",
        "             results['base_price'][:,i].mean(axis=0),\n",
        "             marker='o', color=\"black\")\n",
        "\n",
        "# plt.title('Base Unit Price Posterior Samples')\n",
        "plt.xticks(range(1, 1+ len(products)), list(products))\n",
        "plt.xlabel(\"Products\")\n",
        "plt.ylabel(\"Price ($)\")\n",
        "plt.show()"
      ],
      "execution_count": 25,
      "outputs": [
        {
          "output_type": "display_data",
          "data": {
            "image/png": "[encoded data removed]",
            "text/plain": [
              "<Figure size 864x432 with 1 Axes>"
            ]
          },
          "metadata": {
            "tags": [],
            "needs_background": "light"
          }
        }
      ]
    },
    {
      "cell_type": "code",
      "metadata": {
        "colab": {
          "base_uri": "https://localhost:8080/",
          "height": 497
        },
        "id": "2-NVTkcQd8Uw",
        "outputId": "5a5293db-853c-40aa-dd56-e298f6caece8"
      },
      "source": [
        "\n",
        "# Plotting Country Factors\n",
        "\n",
        "product_err = []\n",
        "\n",
        "for point in range(country_scales.shape[0]):\n",
        "  mean = country_scales[point,0]\n",
        "  product_err.append((mean - country_scales[point,2], country_scales[point,3] - mean))\n",
        "\n",
        "product_err = np.array(product_err)\n",
        "\n",
        "plt.figure(figsize = (10,8))\n",
        "# plt.title(\"Base Product Price with 95% Confidence Interval Error Bar\")\n",
        "plt.xlabel(\"Countries\")\n",
        "plt.ylabel(\"Scale (Multiplication Factor)\")\n",
        "country_bar = plt.bar(countries, country_scales[:,0], yerr = product_err.transpose(), color = 'orange',\n",
        "        capsize = 5)\n",
        "\n",
        "def autolabel_2(bar_data):\n",
        "    \"\"\"\n",
        "    This function automatically adds the label of the bar graphs \n",
        "    based on the height and width of the bar graphs. The only\n",
        "    difference is that this does not add the dollar sign ($)\n",
        "\n",
        "    Input:\n",
        "      bar_data - the plt result of the bar graph \n",
        "\n",
        "    Output:\n",
        "      Annotations \n",
        "    \"\"\"\n",
        "    for data in bar_data:\n",
        "        height = data.get_height()\n",
        "        plt.annotate(f'{np.round(height, 2)}',\n",
        "                    xy=(data.get_x() + data.get_width() / 2 + 0.25, height),\n",
        "                    xytext=(0, 3),  # 3 points vertical offset\n",
        "                    textcoords=\"offset points\",\n",
        "                    ha='center', va='bottom')\n",
        "        \n",
        "plt.axhline(1, color = 'red')\n",
        "\n",
        "autolabel_2(country_bar)"
      ],
      "execution_count": 27,
      "outputs": [
        {
          "output_type": "display_data",
          "data": {
            "image/png": "[encoded data removed]",
            "text/plain": [
              "<Figure size 720x576 with 1 Axes>"
            ]
          },
          "metadata": {
            "tags": [],
            "needs_background": "light"
          }
        }
      ]
    },
    {
      "cell_type": "code",
      "metadata": {
        "colab": {
          "base_uri": "https://localhost:8080/",
          "height": 390
        },
        "id": "yd1eaB3NEY25",
        "outputId": "c6906635-2219-404a-e594-6979af484bcb"
      },
      "source": [
        "plt.figure(figsize=(12,6))\n",
        "\n",
        "for i in range(len(countries)):\n",
        "    plt.plot(sts.uniform.rvs(loc=i+0.8, scale=0.4, size=4000), \n",
        "             results['scale_country'][:,i], \n",
        "             ',', alpha=0.5)\n",
        "    plt.plot(range(1, 1 + len(list(new_df['country_code'])))[i],\n",
        "             results['scale_country'][:,i].mean(axis=0), \n",
        "         marker='.', color=\"black\")\n",
        "\n",
        "# plt.title('Posterior')\n",
        "plt.xticks(range(1, 1+ len(countries)), list(countries))\n",
        "\n",
        "plt.show()"
      ],
      "execution_count": 18,
      "outputs": [
        {
          "output_type": "display_data",
          "data": {
            "image/png": "[encoded data removed]",
            "text/plain": [
              "<Figure size 864x432 with 1 Axes>"
            ]
          },
          "metadata": {
            "tags": [],
            "needs_background": "light"
          }
        }
      ]
    },
    {
      "cell_type": "code",
      "metadata": {
        "colab": {
          "base_uri": "https://localhost:8080/",
          "height": 497
        },
        "id": "GX-dotTqePcY",
        "outputId": "12304258-a664-43f0-81cd-db6ae4b29277"
      },
      "source": [
        "# Plotting Price Perception Category Factors \n",
        "\n",
        "product_err = []\n",
        "\n",
        "for point in range(category_scales.shape[0]):\n",
        "  mean = category_scales[point,0]\n",
        "  product_err.append((mean - category_scales[point,2], category_scales[point,3] - mean))\n",
        "\n",
        "product_err = np.array(product_err)\n",
        "\n",
        "plt.figure(figsize = (10,8))\n",
        "# plt.title(\"Base Product Price with 95% Confidence Interval Error Bar\")\n",
        "plt.xlabel(\"Price Category\")\n",
        "plt.ylabel(\"Scale (Multiplication Factor)\")\n",
        "category_bar = plt.bar(categories, category_scales[:,0], yerr = product_err.transpose(), color = 'orange',\n",
        "        capsize = 5)\n",
        "\n",
        "plt.axhline(1, color = 'red')\n",
        "\n",
        "def autolabel_3(bar_data):\n",
        "    \"\"\"\n",
        "    This function automatically adds the label of the bar graphs \n",
        "    based on the height and width of the bar graphs. The only\n",
        "    difference is that this does not add the dollar sign ($). \n",
        "    Also, we adjusted for the big widths.\n",
        "\n",
        "    Input:\n",
        "      bar_data - the plt result of the bar graph \n",
        "\n",
        "    Output:\n",
        "      Annotations \n",
        "    \"\"\"\n",
        "    for data in bar_data:\n",
        "        height = data.get_height()\n",
        "        plt.annotate(f'{np.round(height, 2)}',\n",
        "                    xy=(data.get_x() + data.get_width() / 2 + 0.1, height),\n",
        "                    xytext=(0, 3),  # 3 points vertical offset\n",
        "                    textcoords=\"offset points\",\n",
        "                    ha='center', va='bottom')\n",
        "\n",
        "autolabel_3(category_bar)"
      ],
      "execution_count": 28,
      "outputs": [
        {
          "output_type": "display_data",
          "data": {
            "image/png": "[encoded data removed]",
            "text/plain": [
              "<Figure size 720x576 with 1 Axes>"
            ]
          },
          "metadata": {
            "tags": [],
            "needs_background": "light"
          }
        }
      ]
    },
    {
      "cell_type": "code",
      "metadata": {
        "colab": {
          "base_uri": "https://localhost:8080/",
          "height": 390
        },
        "id": "BPurOH_E4h-J",
        "outputId": "e5d2e3bd-6c46-43d9-a71d-48e6a70fbe99"
      },
      "source": [
        "plt.figure(figsize=(12,6))\n",
        "\n",
        "for i in range(len(categories)):\n",
        "    plt.plot(sts.uniform.rvs(loc=i+0.8, scale=0.4, size=4000), \n",
        "             results['scale_cat'][:,i], \n",
        "             ',', alpha=0.5)\n",
        "    plt.plot(range(1, 1 + len(list(new_df['category_code'])))[i],\n",
        "             results['scale_cat'][:,i].mean(axis=0), \n",
        "         marker='.', color=\"black\")\n",
        "\n",
        "plt.title('Posterior')\n",
        "plt.xticks(range(1, 1+ len(categories)), list(categories))\n",
        "\n",
        "plt.show()"
      ],
      "execution_count": 20,
      "outputs": [
        {
          "output_type": "display_data",
          "data": {
            "image/png": "[encoded data removed]",
            "text/plain": [
              "<Figure size 864x432 with 1 Axes>"
            ]
          },
          "metadata": {
            "tags": [],
            "needs_background": "light"
          }
        }
      ]
    },
    {
      "cell_type": "markdown",
      "metadata": {
        "id": "zx0yAEyDQx_s"
      },
      "source": [
        "### Acquiring correlation between rental price and geographical location "
      ]
    },
    {
      "cell_type": "code",
      "metadata": {
        "colab": {
          "base_uri": "https://localhost:8080/"
        },
        "id": "MiQf7og1EjQs",
        "outputId": "aecd1979-f944-4b4b-fa6e-12255d72ae55"
      },
      "source": [
        "country_scale_factor = results['scale_country'][0,:]\n",
        "avg_rents = []\n",
        "\n",
        "for country  in df['country'].unique():\n",
        "  curr_country_df = df[df['country'] == country]\n",
        "\n",
        "  avg_rents.append(np.mean(curr_country_df['avg_rental_price']))\n",
        "\n",
        "corr_coef = np.corrcoef(country_scale_factor, avg_rents)[0][1]\n",
        "print(\"Pearson's R:\", np.round(corr_coef, 2))\n",
        "print(\"R-squared:\", np.round(corr_coef**2, 2))"
      ],
      "execution_count": 83,
      "outputs": [
        {
          "output_type": "stream",
          "text": [
            "Pearson's R: 0.72\n",
            "R-squared: 0.51\n"
          ],
          "name": "stdout"
        }
      ]
    },
    {
      "cell_type": "code",
      "metadata": {
        "id": "fT-WiU7GRtAw"
      },
      "source": [
        ""
      ],
      "execution_count": 86,
      "outputs": []
    },
    {
      "cell_type": "code",
      "metadata": {
        "id": "SvO_ay3LSBU8"
      },
      "source": [
        ""
      ],
      "execution_count": 73,
      "outputs": []
    },
    {
      "cell_type": "code",
      "metadata": {
        "id": "pLOeP4RoTStD"
      },
      "source": [
        ""
      ],
      "execution_count": null,
      "outputs": []
    }
  ]
}