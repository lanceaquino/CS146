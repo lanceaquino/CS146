{
  "nbformat": 4,
  "nbformat_minor": 0,
  "metadata": {
    "colab": {
      "name": "CS146 Assignment 3.ipynb",
      "provenance": [],
      "collapsed_sections": [],
      "authorship_tag": "ABX9TyMlWdXys/ZZVtEUxuRNMgas",
      "include_colab_link": true
    },
    "kernelspec": {
      "name": "python3",
      "display_name": "Python 3"
    }
  },
  "cells": [
    {
      "cell_type": "markdown",
      "metadata": {
        "id": "view-in-github",
        "colab_type": "text"
      },
      "source": [
        "<a href=\"https://colab.research.google.com/github/lanceaquino/CS146/blob/main/CS146_Assignment_3.ipynb\" target=\"_parent\"><img src=\"https://colab.research.google.com/assets/colab-badge.svg\" alt=\"Open In Colab\"/></a>"
      ]
    },
    {
      "cell_type": "markdown",
      "metadata": {
        "id": "BuPHJ691J6Iz"
      },
      "source": [
        "# CS146 Assignmnent 3: Using Stan and other excercises # \n",
        "\n",
        "## Implement Models in Stan ## \n",
        "\n"
      ]
    },
    {
      "cell_type": "markdown",
      "metadata": {
        "id": "lHIcLYkEzC7v"
      },
      "source": [
        "###1.  Call Center Data Set - Exponential Likelihood with a Gamma Prior ###"
      ]
    },
    {
      "cell_type": "code",
      "metadata": {
        "id": "zrUkQiaAKKxd"
      },
      "source": [
        "import numpy as np\n",
        "import pystan\n",
        "import pandas as pd\n",
        "import scipy as sp\n",
        "import scipy.stats as sts\n",
        "import matplotlib.pyplot as plt"
      ],
      "execution_count": 1,
      "outputs": []
    },
    {
      "cell_type": "code",
      "metadata": {
        "id": "kDtUjAL6Jvv4"
      },
      "source": [
        "df = pd.read_csv(\"https://course-resources.minerva.kgi.edu/uploaded_files/mke/00124343-8397/call-center.csv\", header = None)\n",
        "waiting_times_day = df.to_numpy()"
      ],
      "execution_count": 2,
      "outputs": []
    },
    {
      "cell_type": "code",
      "metadata": {
        "id": "ZQcWG84pJnAy"
      },
      "source": [
        "# Make 24 empty lists, one per hour.\n",
        "waiting_times_per_hour = [[] for _ in range(24)]\n",
        "\n",
        "# Split the data into 24 separate series, one for each hour of the day.\n",
        "current_time = 0\n",
        "for t in waiting_times_day:\n",
        "    current_hour = int(current_time // 60)\n",
        "    current_time += t\n",
        "    waiting_times_per_hour[current_hour].append(float(t))"
      ],
      "execution_count": 4,
      "outputs": []
    },
    {
      "cell_type": "markdown",
      "metadata": {
        "id": "OThFlMfZTfWp"
      },
      "source": [
        "#### Check Data Structure for Hour 13#### "
      ]
    },
    {
      "cell_type": "code",
      "metadata": {
        "colab": {
          "base_uri": "https://localhost:8080/",
          "height": 366
        },
        "id": "fz2DJMBGz36x",
        "outputId": "b3eed7cf-a9b9-438a-d932-99cecf9519c1"
      },
      "source": [
        "print('Size of data set:', len(waiting_times_day))\n",
        "print('First 3 values in data set:', waiting_times_day[:3])\n",
        "print('Sum of data set:', sum(waiting_times_day))\n",
        "\n",
        "plt.bar(range(24), [len(w) for w in waiting_times_per_hour])\n",
        "plt.title('Number of calls per hour of the day')\n",
        "plt.show()"
      ],
      "execution_count": 5,
      "outputs": [
        {
          "output_type": "stream",
          "text": [
            "Size of data set: 5856\n",
            "First 3 values in data set: [[30. ]\n",
            " [ 3.4]\n",
            " [ 3.2]]\n",
            "Sum of data set: [1441.68381538]\n"
          ],
          "name": "stdout"
        },
        {
          "output_type": "display_data",
          "data": {
            "image/png": "[encoded data removed]",
            "text/plain": [
              "<Figure size 432x288 with 1 Axes>"
            ]
          },
          "metadata": {
            "tags": [],
            "needs_background": "light"
          }
        }
      ]
    },
    {
      "cell_type": "code",
      "metadata": {
        "colab": {
          "base_uri": "https://localhost:8080/",
          "height": 281
        },
        "id": "C3CFj5oJJoyo",
        "outputId": "a110af4b-c1a5-4ccc-bd0c-600b76808303"
      },
      "source": [
        "# We only want to look into the 13th hour \n",
        "hour_index = 13\n",
        "waiting_times_hour = waiting_times_per_hour[hour_index]\n",
        "\n",
        "plt.hist(waiting_times_hour, bins = 20)\n",
        "plt.title(f\"Waiting Times for hour {hour_index}\")\n",
        "plt.show()"
      ],
      "execution_count": 6,
      "outputs": [
        {
          "output_type": "display_data",
          "data": {
            "image/png": "[encoded data removed]",
            "text/plain": [
              "<Figure size 432x288 with 1 Axes>"
            ]
          },
          "metadata": {
            "tags": [],
            "needs_background": "light"
          }
        }
      ]
    },
    {
      "cell_type": "markdown",
      "metadata": {
        "id": "9hU_pWTFT_j0"
      },
      "source": [
        "#### Create Stan Data and Model #### "
      ]
    },
    {
      "cell_type": "code",
      "metadata": {
        "id": "lYjr_DgYMHqo"
      },
      "source": [
        "# Here, we provide stan our known quantities of the call center data set. \n",
        "# This includes our known quantities and hyperparameters. \n",
        "\n",
        "call_center_data = {\n",
        "    'waiting_times' : waiting_times_hour,\n",
        "    'num_waiting_times': len(waiting_times_hour),\n",
        "    # Parametrs for the Prior Gamma Distribution \n",
        "    'alpha': 1,  # We set alpha to 1 as it makes the gamma distribution follow the an exponential pattern \n",
        "    'beta': 0.25,\n",
        "    \n",
        "    # # Posterior Gamma Hyperparameters \n",
        "    # 'alpha_post': 1 + len(waiting_times_hour),\n",
        "    # 'beta_post': 0.25 + sum(waiting_times_hour),\n",
        "}"
      ],
      "execution_count": 7,
      "outputs": []
    },
    {
      "cell_type": "code",
      "metadata": {
        "id": "OUFy_gjmR35S"
      },
      "source": [
        "# Here, we create the instructions for Stan about the model we would like to create \n",
        "\n",
        "stan_code_Q1 = \"\"\"\n",
        "\n",
        "data {\n",
        "  int<lower = 1> num_waiting_times; \n",
        "  real<lower = 0> waiting_times[num_waiting_times];\n",
        "  real<lower = 0> alpha; \n",
        "  real<lower = 0> beta;\n",
        "}\n",
        "\n",
        "parameters {\n",
        "  real<lower = 0> lambda_; \n",
        "}\n",
        "\n",
        "model {\n",
        "  lambda_ ~ gamma(alpha, beta);  //Prior \n",
        "\n",
        "  for (i in 1:num_waiting_times) {\n",
        "    waiting_times[i] ~ exponential(lambda_); //Likelihood\n",
        "  }\n",
        "}\n",
        "\n",
        "\"\"\""
      ],
      "execution_count": 8,
      "outputs": []
    },
    {
      "cell_type": "code",
      "metadata": {
        "colab": {
          "base_uri": "https://localhost:8080/"
        },
        "id": "OtWbY_9FVFnG",
        "outputId": "01244a95-5c38-4cf8-993e-d4d1c5acad7c"
      },
      "source": [
        "stan_model_Q1 = pystan.StanModel(model_code=stan_code_Q1)"
      ],
      "execution_count": 9,
      "outputs": [
        {
          "output_type": "stream",
          "text": [
            "INFO:pystan:COMPILING THE C++ CODE FOR MODEL anon_model_aa2afff6ee22fbbccbbe202cece649d2 NOW.\n"
          ],
          "name": "stderr"
        }
      ]
    },
    {
      "cell_type": "code",
      "metadata": {
        "id": "dAe3hRpDc3FC"
      },
      "source": [
        "stan_results_Q1 = stan_model_Q1.sampling(data = call_center_data)"
      ],
      "execution_count": 10,
      "outputs": []
    },
    {
      "cell_type": "code",
      "metadata": {
        "colab": {
          "base_uri": "https://localhost:8080/"
        },
        "id": "9ekXkr_KeWP3",
        "outputId": "c0f9bb08-5bc6-4ff9-dffb-51848a352228"
      },
      "source": [
        "print(stan_results_Q1.stansummary(pars = ['lambda_'], probs = [0.01, 0.5, 0.99]))\n",
        "\n",
        "# len(posterior_samples['lambda_'])\n",
        "# print(len(waiting_times_hour))"
      ],
      "execution_count": 11,
      "outputs": [
        {
          "output_type": "stream",
          "text": [
            "Inference for Stan model: anon_model_aa2afff6ee22fbbccbbe202cece649d2.\n",
            "4 chains, each with iter=2000; warmup=1000; thin=1; \n",
            "post-warmup draws per chain=1000, total post-warmup draws=4000.\n",
            "\n",
            "          mean se_mean     sd     1%    50%    99%  n_eff   Rhat\n",
            "lambda_   6.34  9.0e-3   0.33   5.58   6.33    7.1   1333    1.0\n",
            "\n",
            "Samples were drawn using NUTS at Sat Feb 20 04:47:06 2021.\n",
            "For each parameter, n_eff is a crude measure of effective sample size,\n",
            "and Rhat is the potential scale reduction factor on split chains (at \n",
            "convergence, Rhat=1).\n"
          ],
          "name": "stdout"
        }
      ]
    },
    {
      "cell_type": "markdown",
      "metadata": {
        "id": "jRY8GcvK2HVA"
      },
      "source": [
        "#### Posterior $\\lambda$ Confidence Interval and its Distribution ####"
      ]
    },
    {
      "cell_type": "code",
      "metadata": {
        "colab": {
          "base_uri": "https://localhost:8080/"
        },
        "id": "vNW2OPaR3-iY",
        "outputId": "2b636506-293f-42e6-d5ae-197c58554788"
      },
      "source": [
        "posterior_samples = stan_results_Q1.extract()\n",
        "\n",
        "conf_int_98 = np.quantile(posterior_samples['lambda_'], [0.01, 0.99])\n",
        "\n",
        "print(\"98% Confidence Interval\", conf_int_98)"
      ],
      "execution_count": 12,
      "outputs": [
        {
          "output_type": "stream",
          "text": [
            "98% Confidence Interval [5.58249783 7.09728159]\n"
          ],
          "name": "stdout"
        }
      ]
    },
    {
      "cell_type": "code",
      "metadata": {
        "colab": {
          "base_uri": "https://localhost:8080/",
          "height": 295
        },
        "id": "xYoiiS74gENE",
        "outputId": "8456375b-5878-4cc8-e57d-e560d187dc75"
      },
      "source": [
        "plt.hist(posterior_samples['lambda_'], bins = 30, density = True)\n",
        "plt.axvline(conf_int_98[0], linestyle = '--', color = 'red')\n",
        "plt.axvline(conf_int_98[1], linestyle = '--', color = 'red')\n",
        "plt.title(\"Disitribution of Posterior Lambda values with 98% Confidence Interval\")\n",
        "plt.xlabel('λ')\n",
        "plt.ylabel('probability density')\n",
        "plt.show()"
      ],
      "execution_count": 49,
      "outputs": [
        {
          "output_type": "display_data",
          "data": {
            "image/png": "[encoded data removed]",
            "text/plain": [
              "<Figure size 432x288 with 1 Axes>"
            ]
          },
          "metadata": {
            "tags": [],
            "needs_background": "light"
          }
        }
      ]
    },
    {
      "cell_type": "markdown",
      "metadata": {
        "id": "c8XcG9Y94H26"
      },
      "source": [
        "### 2. Normal Likelihood with Normal-inverse Gamma Prior ###"
      ]
    },
    {
      "cell_type": "markdown",
      "metadata": {
        "id": "uPEuo3Ta4a-2"
      },
      "source": [
        "#### Create Data Set #### "
      ]
    },
    {
      "cell_type": "code",
      "metadata": {
        "id": "9Yn2UswdyEVf",
        "colab": {
          "base_uri": "https://localhost:8080/"
        },
        "outputId": "603c6d75-256d-43ac-a9f9-64317bee5e85"
      },
      "source": [
        "sample_data = np.array([3.54551763569501, 4.23799861761927, 4.72138425951628, -0.692265320368236, 3.04473513808788, 3.10721270732507, 3.42982225852764, 3.12153903971176, 3.60532628639808, 2.46561737557325, 1.64059465916131, 2.4621623937158, 2.76744495617481, 2.11580054750407, 5.14077208608354, 4.90288499104252, 1.43357579078348, 4.78997817363558, 1.93633438207439, 2.43698838097178, 3.95389148701877, 2.4242295507716, 2.90256268679023, 2.90931728045901, 0.658072819386888, 3.05946763895983, 3.42615331539605, 2.68842833004417, 2.35850130765166, 2.20014998540933, 4.73846511350084, 4.19839721414451, 2.11805510171691, -0.572742936038015, 0.389413982010623, 3.87846130744249, 1.34057656890858, 0.7235748351719, 5.11042369840174, 4.00747556696571, 3.18080956726965, 3.24677964069676, 5.1154659863626, 1.80276616697155, 0.305877679021404, -0.449168307882718, 4.63705561194774, 1.37783714058301, 4.9608149859515, 6.7764195802069, 1.75515522922399, 7.04457337435215, 0.625185284955128, 2.25130734369064, 2.19770178119255, 2.16858257249432, 6.25367644481438, 0.116081323476489, 2.06315857864341, 1.82409781471718, 5.15226741230987, 2.03408231293173, -1.12450854337596, 5.03511270642234, 2.03841989653263, 5.80911741751597, 2.31718128783245, 4.97575010580997, 3.34262752222776, -0.786983904253601, 0.777362359850013, 0.975825009321195, 3.76354577515958, 7.27215002907876, 1.35404089480189, 3.76567940257157, 3.48573993343334, 1.85976988586156, 1.93567061960716, 5.31071812003942, 2.96832987672751, 3.32378908637275, 2.61631960054551, 5.80897964052825, 4.95215217171488, 1.32036772796131, 3.79932542233371, 3.08108492766309, 2.6734110081666, -0.14251851138521, 2.48744375588965, 3.98463042123415, 6.32781680028, 4.0029172024315, 4.23210369459457, 1.71412938967325, 5.16492114963802, 2.53409673107906, 4.77346963973334, 3.34088878725551, 4.77681472750664, 3.81135755590976, 1.14054269983137, 1.42057452397702, 0.132142311125433, 7.12577254064672, 4.85422012781764, 4.15745720676399, 4.48763147363348, 1.56060322283629, 2.64821761542887, 1.26655351354548, 4.48497722937931, 4.3286302403783, 4.26157679512625, 4.0597558651364, 5.14051109132496, 2.5660348362221, 1.10764013818617, 0.386889523012303, 3.54150473246237, 3.57480214382351, 1.95150869584847, 2.70688970563118, 2.47971849820016, 6.50838037000679, 4.01511556826974, 1.11562740835344, 5.02637639472439, 4.38184491686864, 5.60423144047386, 2.40067408379298, 5.7849941378344, 2.37225791084559, 6.86031465910273, 4.09214858239736, 6.85994063692621, 3.62202415158781, -1.11220646958158, 3.73920971696866, 3.24533871512216, 1.28724203643002, 0.291152541773164, 0.368630935755111, 6.71607270510525, 5.42278455200833, 5.35188416119281, 2.305874586163, -1.85878097203032, 2.69877382351447, 4.84121860550417, 4.40973060799391, 5.04399320650774, 2.68632252661298, 6.06531610659912, 3.11881325011993, 3.45532087005125, 3.08442259840346, 4.43564424136733, 2.84252623135804, 1.50536798885106, 1.48868622407603, 2.07322837615663, 2.5476910210998, 5.66941808257884, 2.16731067416426, 2.49843958833905, 3.94586413879977, 0.316433764679541, -0.608937441815983, 2.5943436558557, 1.05516869528337, 2.1447601332725, 6.65846634141906, 2.1771555267834, 5.23953812029442, 3.53629759842647, 6.03263538017003, 3.85739159396599, 5.95093453004638, 1.12856987160476, 3.5559912886093, 2.21974864244489, 3.38471394882135, -1.90805399279409, 3.5113699258973, 4.49319955412346, 5.10507952638867, 1.08277895384184, 4.58403638422759, 1.37304994426824, 4.17566975753523, 3.36454182510378, 0.177136582644021, 2.91337423388405, 3.22796455457526, 2.80124198378441, 1.95189718582788, 3.37659263896246, -1.6463045238231])\n",
        "print(len(sample_data), \"data\")"
      ],
      "execution_count": 16,
      "outputs": [
        {
          "output_type": "stream",
          "text": [
            "200 data\n"
          ],
          "name": "stdout"
        }
      ]
    },
    {
      "cell_type": "code",
      "metadata": {
        "colab": {
          "base_uri": "https://localhost:8080/",
          "height": 299
        },
        "id": "ziqldhQY4e5I",
        "outputId": "065cf50c-ee31-414f-91d7-d0d5b6fba265"
      },
      "source": [
        "# Plot a histogram of the data. Do the data look normally distributed?\n",
        "plt.hist(sample_data, bins=20)\n",
        "plt.show()\n",
        "\n",
        "# Calculate the sample mean and variance of the data\n",
        "print('Data sample mean:', np.mean(sample_data))\n",
        "print('Data sample variance:', np.var(sample_data))"
      ],
      "execution_count": 17,
      "outputs": [
        {
          "output_type": "display_data",
          "data": {
            "image/png": "[encoded data removed]",
            "text/plain": [
              "<Figure size 432x288 with 1 Axes>"
            ]
          },
          "metadata": {
            "tags": [],
            "needs_background": "light"
          }
        },
        {
          "output_type": "stream",
          "text": [
            "Data sample mean: 3.065080189542003\n",
            "Data sample variance: 3.6152141787699223\n"
          ],
          "name": "stdout"
        }
      ]
    },
    {
      "cell_type": "markdown",
      "metadata": {
        "id": "cWy3jHD479h7"
      },
      "source": [
        "#### Generate Stan Data set and Model #### "
      ]
    },
    {
      "cell_type": "code",
      "metadata": {
        "id": "p7Hu030d76ZM"
      },
      "source": [
        "stan_data_Q2 = {\n",
        "    # Data set \n",
        "    'sample_data' : sample_data, \n",
        "    'num_data' :len(sample_data),\n",
        "\n",
        "    # Hyperparameters (Given values)\n",
        "    'mu' : 0,\n",
        "    'nu' : 0.054,\n",
        "    'alpha' : 1.12,\n",
        "    'beta' : 0.4 \n",
        "}"
      ],
      "execution_count": 18,
      "outputs": []
    },
    {
      "cell_type": "code",
      "metadata": {
        "id": "tbButXga6V3x"
      },
      "source": [
        "stan_code_Q2 = \"\"\"\n",
        "\n",
        "data {\n",
        "  int<lower = 1> num_data; \n",
        "  real sample_data[num_data];\n",
        "  real<lower = 0> mu;\n",
        "  real<lower = 0> nu;\n",
        "  real<lower = 0> alpha; \n",
        "  real<lower = 0> beta;\n",
        "}\n",
        "\n",
        "parameters {\n",
        "  real<lower = 0> x; \n",
        "  real<lower = 0> sigma2; \n",
        "}\n",
        "\n",
        "model {\n",
        "  sigma2 ~ inv_gamma(alpha, beta) ;  //Prior \n",
        "  x ~ normal(mu, sqrt(sigma2/nu)) ;\n",
        "\n",
        "  for (i in 1:num_data) {\n",
        "    sample_data[i] ~ normal(x, sqrt(sigma2)) ; //Likelihood\n",
        "  }\n",
        "}\n",
        "\n",
        "\"\"\""
      ],
      "execution_count": 29,
      "outputs": []
    },
    {
      "cell_type": "code",
      "metadata": {
        "colab": {
          "base_uri": "https://localhost:8080/"
        },
        "id": "pcXrSkpU734H",
        "outputId": "62da8a4f-a7ed-456d-dcc8-bd7d563c2f79"
      },
      "source": [
        "stan_model_Q2 = pystan.StanModel(model_code=stan_code_Q2)"
      ],
      "execution_count": 30,
      "outputs": [
        {
          "output_type": "stream",
          "text": [
            "INFO:pystan:COMPILING THE C++ CODE FOR MODEL anon_model_a4ff89787afd9f6a3f0e49fac98bbd9b NOW.\n"
          ],
          "name": "stderr"
        }
      ]
    },
    {
      "cell_type": "code",
      "metadata": {
        "id": "f_u_kx0IBBG_"
      },
      "source": [
        "stan_results_Q2 = stan_model_Q2.sampling(data = stan_data_Q2)"
      ],
      "execution_count": 31,
      "outputs": []
    },
    {
      "cell_type": "code",
      "metadata": {
        "colab": {
          "base_uri": "https://localhost:8080/"
        },
        "id": "RN7zF2s1CDdG",
        "outputId": "1915a925-830b-4fae-af99-016582810e00"
      },
      "source": [
        "print(stan_results_Q2.stansummary(pars = ['x', 'sigma2'], probs = [0.025, 0.975]))"
      ],
      "execution_count": 32,
      "outputs": [
        {
          "output_type": "stream",
          "text": [
            "Inference for Stan model: anon_model_a4ff89787afd9f6a3f0e49fac98bbd9b.\n",
            "4 chains, each with iter=2000; warmup=1000; thin=1; \n",
            "post-warmup draws per chain=1000, total post-warmup draws=4000.\n",
            "\n",
            "         mean se_mean     sd   2.5%  97.5%  n_eff   Rhat\n",
            "x        3.07  2.3e-3   0.13    2.8   3.32   3259    1.0\n",
            "sigma2   3.62  6.7e-3   0.35    3.0   4.41   2745    1.0\n",
            "\n",
            "Samples were drawn using NUTS at Sat Feb 20 05:09:22 2021.\n",
            "For each parameter, n_eff is a crude measure of effective sample size,\n",
            "and Rhat is the potential scale reduction factor on split chains (at \n",
            "convergence, Rhat=1).\n"
          ],
          "name": "stdout"
        }
      ]
    },
    {
      "cell_type": "markdown",
      "metadata": {
        "id": "xzXwUcZybeo-"
      },
      "source": [
        "#### Calculate posterior mean and variance with 95% Confidence Interval #### "
      ]
    },
    {
      "cell_type": "code",
      "metadata": {
        "colab": {
          "base_uri": "https://localhost:8080/"
        },
        "id": "xLzEDG2_GGY-",
        "outputId": "a80957d6-539d-47df-ea0f-7a293e8dcada"
      },
      "source": [
        "# Calculate posterior sample intervals \n",
        "posterior_samples_Q2 = stan_results_Q2.extract()\n",
        "                                  \n",
        "print('x: [%.3f, %.3f]' % (\n",
        "    np.percentile(posterior_samples_Q2['x'], 2.5),\n",
        "    np.percentile(posterior_samples_Q2['x'], 97.5)))\n",
        "print('σ²: [%.3f, %.3f]' % (\n",
        "    np.percentile(posterior_samples_Q2['sigma2'], 2.5),\n",
        "    np.percentile(posterior_samples_Q2['sigma2'], 97.5)))"
      ],
      "execution_count": 34,
      "outputs": [
        {
          "output_type": "stream",
          "text": [
            "x: [2.801, 3.321]\n",
            "σ²: [3.001, 4.407]\n"
          ],
          "name": "stdout"
        }
      ]
    },
    {
      "cell_type": "markdown",
      "metadata": {
        "id": "jL5Hx2jWbnqk"
      },
      "source": [
        "#### Plot 10 samples from the stan data with their respective mean and variance ####"
      ]
    },
    {
      "cell_type": "code",
      "metadata": {
        "colab": {
          "base_uri": "https://localhost:8080/",
          "height": 404
        },
        "id": "ROpozvj0Ts3c",
        "outputId": "db1b1d3f-3362-4d57-abd9-48da68737ae5"
      },
      "source": [
        "num_samples = 10 \n",
        "samples = []\n",
        "\n",
        "# We take x and sigma 2 samples from our stan samples \n",
        "for i in range(num_samples):\n",
        "  x = np.random.choice(posterior_samples_Q2['x'], size = 1)\n",
        "  y = np.random.choice(posterior_samples_Q2['sigma2'], size = 1)\n",
        "\n",
        "  samples.append((x,y))\n",
        "\n",
        "# We plot the our 10 chosen samples, by using normal pdf function\n",
        "plot_x = np.linspace(-15,15, 500)\n",
        "plt.figure(figsize=(12, 6))\n",
        "plot_x = np.linspace(-15, 15, 500)\n",
        "for i in range(num_samples):\n",
        "    plot_y = sts.norm.pdf(plot_x, loc=samples[i][0], scale=np.sqrt(samples[i][0]))\n",
        "    plt.plot(plot_x, plot_y)\n",
        "plt.title('%i samples from a normal-inverse-gamma posterior distribution' % num_samples)\n",
        "plt.xlabel(\"Posterior Mean (x)\")\n",
        "plt.ylabel(\"Probability Density\")\n",
        "plt.show()"
      ],
      "execution_count": 51,
      "outputs": [
        {
          "output_type": "display_data",
          "data": {
            "image/png": "[encoded data removed]",
            "text/plain": [
              "<Figure size 864x432 with 1 Axes>"
            ]
          },
          "metadata": {
            "tags": [],
            "needs_background": "light"
          }
        }
      ]
    },
    {
      "cell_type": "markdown",
      "metadata": {
        "id": "DA9lsvMmZxva"
      },
      "source": [
        "### 3. Log-normal HRTEM data ###\n",
        "\n",
        "#### Import data and show its structure ####"
      ]
    },
    {
      "cell_type": "code",
      "metadata": {
        "colab": {
          "base_uri": "https://localhost:8080/",
          "height": 390
        },
        "id": "-LsqEIU6WdHq",
        "outputId": "875125a6-2906-4910-bc84-a878bcf4cdbf"
      },
      "source": [
        "hrtem_df = pd.read_csv(\"https://course-resources.minerva.kgi.edu/uploaded_files/mke/00075398-1635/hrtem.csv\", header = None)\n",
        "hrtem = hrtem_df.to_numpy()\n",
        "\n",
        "# Get the log of the hrtem data set \n",
        "log_hrtem = np.log(hrtem)\n",
        "\n",
        "\n",
        "# Plot structure of log hrtem data set \n",
        "plt.figure(figsize = (12,6))\n",
        "plt.hist(log_hrtem, bins = np.linspace(0,3.5,15))\n",
        "\n",
        "plt.title(\"Histogram of log-transformed data set\")\n",
        "plt.show()\n"
      ],
      "execution_count": 38,
      "outputs": [
        {
          "output_type": "display_data",
          "data": {
            "image/png": "[encoded data removed]",
            "text/plain": [
              "<Figure size 864x432 with 1 Axes>"
            ]
          },
          "metadata": {
            "tags": [],
            "needs_background": "light"
          }
        }
      ]
    },
    {
      "cell_type": "code",
      "metadata": {
        "colab": {
          "base_uri": "https://localhost:8080/"
        },
        "id": "_bYzTHTQkc7T",
        "outputId": "cc86165c-e642-419e-ff76-27bac50c6d40"
      },
      "source": [
        "# Turn Numpy array to list \n",
        "log_hrtem_list = []\n",
        "\n",
        "for num in log_hrtem:\n",
        "  log_hrtem_list.append(float(num))\n",
        "\n",
        "# Print first entry of the log data\n",
        "len(log_hrtem_list)\n"
      ],
      "execution_count": 48,
      "outputs": [
        {
          "output_type": "execute_result",
          "data": {
            "text/plain": [
              "500"
            ]
          },
          "metadata": {
            "tags": []
          },
          "execution_count": 48
        }
      ]
    },
    {
      "cell_type": "markdown",
      "metadata": {
        "id": "ex9JpdIm7Pnz"
      },
      "source": [
        "#### Set Stan Data and Model ####"
      ]
    },
    {
      "cell_type": "code",
      "metadata": {
        "id": "XPAXa75WYIG1"
      },
      "source": [
        "stan_data_Q3 = {\n",
        "    # Data set \n",
        "    'hrtem_data' : log_hrtem_list, \n",
        "    'hrtem_num_data' :len(log_hrtem_list),\n",
        "\n",
        "    # Hyperparameters (Given values)\n",
        "    'mu' : 2.3,\n",
        "    'nu' : 0.1,\n",
        "    'alpha' : 2,\n",
        "    'beta' : 5 \n",
        "}"
      ],
      "execution_count": 41,
      "outputs": []
    },
    {
      "cell_type": "code",
      "metadata": {
        "id": "I1PaAH5BbXtc"
      },
      "source": [
        "stan_code_Q3 = \"\"\"\n",
        "\n",
        "data {\n",
        "  int<lower = 1> hrtem_num_data; \n",
        "  real hrtem_data[hrtem_num_data];\n",
        "  real<lower = 0> mu;\n",
        "  real<lower = 0> nu;\n",
        "  real<lower = 0> alpha; \n",
        "  real<lower = 0> beta;\n",
        "}\n",
        "\n",
        "parameters {\n",
        "  real<lower = 0> x; \n",
        "  real<lower = 0> sigma2; \n",
        "}\n",
        "\n",
        "model {\n",
        "  sigma2 ~ inv_gamma(alpha, beta) ;  //Prior \n",
        "  x ~ normal(mu, sqrt(sigma2/nu)) ;\n",
        "\n",
        "  for (i in 1:hrtem_num_data) {\n",
        "    hrtem_data[i] ~ normal(x, sqrt(sigma2)) ; //Likelihood\n",
        "  }\n",
        "}\n",
        "\n",
        "\"\"\""
      ],
      "execution_count": 42,
      "outputs": []
    },
    {
      "cell_type": "code",
      "metadata": {
        "colab": {
          "base_uri": "https://localhost:8080/"
        },
        "id": "JWKI28cPbX7d",
        "outputId": "82f412b5-aa8a-464e-da3c-fca3f480c6f5"
      },
      "source": [
        "stan_model_Q3 = pystan.StanModel(model_code=stan_code_Q3)"
      ],
      "execution_count": 44,
      "outputs": [
        {
          "output_type": "stream",
          "text": [
            "INFO:pystan:COMPILING THE C++ CODE FOR MODEL anon_model_22f4bc79f50fcca020b2352cb6c876c7 NOW.\n"
          ],
          "name": "stderr"
        }
      ]
    },
    {
      "cell_type": "code",
      "metadata": {
        "id": "97Wyc2Nccpj2"
      },
      "source": [
        "stan_results_Q3 = stan_model_Q3.sampling(data = stan_data_Q3)"
      ],
      "execution_count": 45,
      "outputs": []
    },
    {
      "cell_type": "code",
      "metadata": {
        "colab": {
          "base_uri": "https://localhost:8080/"
        },
        "id": "8AMd-HDRcprx",
        "outputId": "c6a8b3d8-16c0-442d-a27b-b4905b485bc8"
      },
      "source": [
        "print(stan_results_Q3.stansummary(pars = ['x', 'sigma2'], probs = [0.025, 0.975]))"
      ],
      "execution_count": 46,
      "outputs": [
        {
          "output_type": "stream",
          "text": [
            "Inference for Stan model: anon_model_22f4bc79f50fcca020b2352cb6c876c7.\n",
            "4 chains, each with iter=2000; warmup=1000; thin=1; \n",
            "post-warmup draws per chain=1000, total post-warmup draws=4000.\n",
            "\n",
            "         mean se_mean     sd   2.5%  97.5%  n_eff   Rhat\n",
            "x        1.89  5.4e-4   0.03   1.83   1.95   3265    1.0\n",
            "sigma2    0.5  5.4e-4   0.03   0.44   0.56   3289    1.0\n",
            "\n",
            "Samples were drawn using NUTS at Sat Feb 20 05:29:39 2021.\n",
            "For each parameter, n_eff is a crude measure of effective sample size,\n",
            "and Rhat is the potential scale reduction factor on split chains (at \n",
            "convergence, Rhat=1).\n"
          ],
          "name": "stdout"
        }
      ]
    },
    {
      "cell_type": "markdown",
      "metadata": {
        "id": "rbpi3_3uhhuY"
      },
      "source": [
        "#### Calculate 95% Confidence Interval for Mean and Variance of the HRTEM data set Posterior Results#### "
      ]
    },
    {
      "cell_type": "code",
      "metadata": {
        "colab": {
          "base_uri": "https://localhost:8080/"
        },
        "id": "lqKo92P2doMK",
        "outputId": "09cf1dee-a4af-430c-af2e-5879f3e03b1b"
      },
      "source": [
        "posterior_samples_Q3 = stan_results_Q3.extract()\n",
        "                                  \n",
        "print('x: [%.2f, %.2f]' % (\n",
        "    np.percentile(posterior_samples_Q3['x'], 2.5),\n",
        "    np.percentile(posterior_samples_Q3['x'], 97.5)))\n",
        "print('σ²: [%.2f, %.2f]' % (\n",
        "    np.percentile(posterior_samples_Q3['sigma2'], 2.5),\n",
        "    np.percentile(posterior_samples_Q3['sigma2'], 97.5)))\n"
      ],
      "execution_count": 47,
      "outputs": [
        {
          "output_type": "stream",
          "text": [
            "x: [1.83, 1.95]\n",
            "σ²: [0.44, 0.56]\n"
          ],
          "name": "stdout"
        }
      ]
    },
    {
      "cell_type": "markdown",
      "metadata": {
        "id": "4tNAbt1Oho2O"
      },
      "source": [
        "#### Plot 10 samples from the Posterior HRTEM Values #### "
      ]
    },
    {
      "cell_type": "code",
      "metadata": {
        "colab": {
          "base_uri": "https://localhost:8080/",
          "height": 404
        },
        "id": "XvRJx3TfhYpE",
        "outputId": "d4e15e00-a635-4f9f-d844-cfe932ca8a0d"
      },
      "source": [
        "num_samples = 10 \n",
        "samples = []\n",
        "\n",
        "# We take x and sigma 2 samples from our stan samples \n",
        "for i in range(num_samples):\n",
        "  mean = np.random.choice(posterior_samples_Q3['x'], size = 1)\n",
        "  variance = np.random.choice(posterior_samples_Q3['sigma2'], size = 1)\n",
        "\n",
        "  samples.append((mean,variance))\n",
        "\n",
        "# We plot the our 10 chosen samples, by using normal pdf function\n",
        "plt.figure(figsize=(12, 6))\n",
        "\n",
        "\n",
        "plot_x = np.linspace(0,30, 200)\n",
        "plt.hist(hrtem, bins = 20, density=True, alpha = 0.5)\n",
        "\n",
        "for i in range(num_samples):\n",
        "    plot_y = sts.lognorm.pdf(plot_x, samples[i][1], scale = np.exp(samples[i][0]))\n",
        "    plt.plot(plot_x, plot_y)\n",
        "plt.title('%i samples from a normal-inverse-gamma posterior distribution over the HRTEM data set' % num_samples)\n",
        "plt.xlabel(\"Posterior (x)\")\n",
        "plt.ylabel(\"Probability Density\")\n",
        "plt.show()"
      ],
      "execution_count": 52,
      "outputs": [
        {
          "output_type": "display_data",
          "data": {
            "image/png": "[encoded data removed]",
            "text/plain": [
              "<Figure size 864x432 with 1 Axes>"
            ]
          },
          "metadata": {
            "tags": [],
            "needs_background": "light"
          }
        }
      ]
    },
    {
      "cell_type": "code",
      "metadata": {
        "id": "V2hEEKzoh_kZ"
      },
      "source": [
        ""
      ],
      "execution_count": null,
      "outputs": []
    }
  ]
}