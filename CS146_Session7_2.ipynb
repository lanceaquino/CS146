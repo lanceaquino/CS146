{
  "nbformat": 4,
  "nbformat_minor": 0,
  "metadata": {
    "kernelspec": {
      "display_name": "Python 3 (Anaconda 2020)",
      "env": {
        "ADDR2LINE": "/ext/anaconda2020.02/bin/x86_64-conda_cos6-linux-gnu-addr2line",
        "ANACONDA2019": "$EXT/anaconda-2019.03",
        "ANACONDA2020": "/ext/anaconda2020.02",
        "ANACONDA3": "$EXT/anaconda3",
        "ANACONDA5": "$EXT/anaconda5",
        "AR": "/ext/anaconda2020.02/bin/x86_64-conda_cos6-linux-gnu-ar",
        "AS": "/ext/anaconda2020.02/bin/x86_64-conda_cos6-linux-gnu-as",
        "CC": "/ext/anaconda2020.02/bin/x86_64-conda_cos6-linux-gnu-cc",
        "CFLAGS": "-march=nocona -mtune=haswell -ftree-vectorize -fPIC -fstack-protector-strong -fno-plt -O2 -ffunction-sections -pipe -isystem /ext/anaconda2020.02/include",
        "CMAKE_PREFIX_PATH": "/ext/anaconda2020.02:/ext/anaconda2020.02/x86_64-conda_cos6-linux-gnu/sysroot/usr",
        "CONDA_BACKUP_HOST": "x86_64-conda_cos6-linux-gnu",
        "CONDA_BUILD_SYSROOT": "/ext/anaconda2020.02/x86_64-conda_cos6-linux-gnu/sysroot",
        "CONDA_DEFAULT_ENV": "base",
        "CONDA_EXE": "/ext/anaconda2020.02/bin/conda",
        "CONDA_MKL_INTERFACE_LAYER_BACKUP": "",
        "CONDA_PREFIX": "/ext/anaconda2020.02",
        "CONDA_PROMPT_MODIFIER": "(base) ",
        "CONDA_PYTHON_EXE": "/ext/anaconda2020.02/bin/python",
        "CONDA_SHLVL": "1",
        "CPP": "/ext/anaconda2020.02/bin/x86_64-conda_cos6-linux-gnu-cpp",
        "CPPFLAGS": "-DNDEBUG -D_FORTIFY_SOURCE=2 -O2 -isystem /ext/anaconda2020.02/include",
        "CXX": "/ext/anaconda2020.02/bin/x86_64-conda_cos6-linux-gnu-c++",
        "CXXFILT": "/ext/anaconda2020.02/bin/x86_64-conda_cos6-linux-gnu-c++filt",
        "CXXFLAGS": "-fvisibility-inlines-hidden -std=c++17 -fmessage-length=0 -march=nocona -mtune=haswell -ftree-vectorize -fPIC -fstack-protector-strong -fno-plt -O2 -ffunction-sections -pipe -isystem /ext/anaconda2020.02/include",
        "DEBUG_CFLAGS": "-march=nocona -mtune=haswell -ftree-vectorize -fPIC -fstack-protector-all -fno-plt -Og -g -Wall -Wextra -fvar-tracking-assignments -ffunction-sections -pipe -isystem /ext/anaconda2020.02/include",
        "DEBUG_CPPFLAGS": "-D_DEBUG -D_FORTIFY_SOURCE=2 -Og -isystem /ext/anaconda2020.02/include",
        "DEBUG_CXXFLAGS": "-fvisibility-inlines-hidden -std=c++17 -fmessage-length=0 -march=nocona -mtune=haswell -ftree-vectorize -fPIC -fstack-protector-all -fno-plt -Og -g -Wall -Wextra -fvar-tracking-assignments -ffunction-sections -pipe -isystem /ext/anaconda2020.02/include",
        "DEBUG_FFLAGS": "-fopenmp -march=nocona -mtune=haswell -ftree-vectorize -fPIC -fstack-protector-strong -fno-plt -O2 -ffunction-sections -pipe -isystem /ext/anaconda2020.02/include -fopenmp -march=nocona -mtune=haswell -ftree-vectorize -fPIC -fstack-protector-all -fno-plt -Og -g -Wall -Wextra -fcheck=all -fbacktrace -fimplicit-none -fvar-tracking-assignments -ffunction-sections -pipe",
        "DEBUG_FORTRANFLAGS": "-fopenmp -march=nocona -mtune=haswell -ftree-vectorize -fPIC -fstack-protector-strong -fno-plt -O2 -ffunction-sections -pipe -isystem /ext/anaconda2020.02/include -fopenmp -march=nocona -mtune=haswell -ftree-vectorize -fPIC -fstack-protector-all -fno-plt -Og -g -Wall -Wextra -fcheck=all -fbacktrace -fimplicit-none -fvar-tracking-assignments -ffunction-sections -pipe",
        "ELFEDIT": "/ext/anaconda2020.02/bin/x86_64-conda_cos6-linux-gnu-elfedit",
        "F77": "/ext/anaconda2020.02/bin/x86_64-conda_cos6-linux-gnu-gfortran",
        "F90": "/ext/anaconda2020.02/bin/x86_64-conda_cos6-linux-gnu-gfortran",
        "F95": "/ext/anaconda2020.02/bin/x86_64-conda_cos6-linux-gnu-f95",
        "FC": "/ext/anaconda2020.02/bin/x86_64-conda_cos6-linux-gnu-gfortran",
        "FFLAGS": "-fopenmp -march=nocona -mtune=haswell -ftree-vectorize -fPIC -fstack-protector-strong -fno-plt -O2 -ffunction-sections -pipe -isystem /ext/anaconda2020.02/include",
        "FORTRANFLAGS": "-fopenmp -march=nocona -mtune=haswell -ftree-vectorize -fPIC -fstack-protector-strong -fno-plt -O2 -ffunction-sections -pipe -isystem /ext/anaconda2020.02/include",
        "GCC": "/ext/anaconda2020.02/bin/x86_64-conda_cos6-linux-gnu-gcc",
        "GCC_AR": "/ext/anaconda2020.02/bin/x86_64-conda_cos6-linux-gnu-gcc-ar",
        "GCC_NM": "/ext/anaconda2020.02/bin/x86_64-conda_cos6-linux-gnu-gcc-nm",
        "GCC_RANLIB": "/ext/anaconda2020.02/bin/x86_64-conda_cos6-linux-gnu-gcc-ranlib",
        "GDAL_DATA": "/ext/anaconda2020.02/share/gdal",
        "GFORTRAN": "/ext/anaconda2020.02/bin/x86_64-conda_cos6-linux-gnu-gfortran",
        "GPROF": "/ext/anaconda2020.02/bin/x86_64-conda_cos6-linux-gnu-gprof",
        "GXX": "/ext/anaconda2020.02/bin/x86_64-conda_cos6-linux-gnu-g++",
        "JAVA_HOME": "/ext/anaconda2020.02",
        "JAVA_HOME_CONDA_BACKUP": "",
        "JAVA_LD_LIBRARY_PATH": "/ext/anaconda2020.02/lib/server",
        "LD": "/ext/anaconda2020.02/bin/x86_64-conda_cos6-linux-gnu-ld",
        "LDFLAGS": "-Wl,-O2 -Wl,--sort-common -Wl,--as-needed -Wl,-z,relro -Wl,-z,now -Wl,--disable-new-dtags -Wl,--gc-sections -Wl,-rpath,/ext/anaconda2020.02/lib -Wl,-rpath-link,/ext/anaconda2020.02/lib -L/ext/anaconda2020.02/lib",
        "LD_GOLD": "/ext/anaconda2020.02/bin/x86_64-conda_cos6-linux-gnu-ld.gold",
        "LD_LIBRARY_PATH": "/ext/anaconda2020.02/lib",
        "MKL_INTERFACE_LAYER": "LP64,GNU",
        "MKL_THREADING_LAYER": "GNU",
        "NM": "/ext/anaconda2020.02/bin/x86_64-conda_cos6-linux-gnu-nm",
        "OBJCOPY": "/ext/anaconda2020.02/bin/x86_64-conda_cos6-linux-gnu-objcopy",
        "OBJDUMP": "/ext/anaconda2020.02/bin/x86_64-conda_cos6-linux-gnu-objdump",
        "OLDPWD": "/ext/anaconda2020.02",
        "PATH": "/ext/anaconda2020.02/bin:/ext/anaconda2020.02/bin:/ext/anaconda2020.02/condabin:/cocalc/bin:/cocalc/src/smc-project/bin:/home/salvus/bin:/home/salvus/.local/bin:/usr/lib/xpra:/ext/bin:/opt/ghc/bin:/usr/local/sbin:/usr/local/bin:/usr/sbin:/usr/bin:/sbin:/bin:/snap/bin:/usr/lib/postgresql/10/bin:/ext/data/homer/bin:/ext/data/weblogo",
        "PROJ_LIB": "/ext/anaconda2020.02/share/proj",
        "RANLIB": "/ext/anaconda2020.02/bin/x86_64-conda_cos6-linux-gnu-ranlib",
        "READELF": "/ext/anaconda2020.02/bin/x86_64-conda_cos6-linux-gnu-readelf",
        "RSTUDIO_WHICH_R": "/ext/anaconda2020.02/bin/R",
        "SIZE": "/ext/anaconda2020.02/bin/x86_64-conda_cos6-linux-gnu-size",
        "STRINGS": "/ext/anaconda2020.02/bin/x86_64-conda_cos6-linux-gnu-strings",
        "STRIP": "/ext/anaconda2020.02/bin/x86_64-conda_cos6-linux-gnu-strip",
        "_CE_CONDA": "",
        "_CE_M": "",
        "_CONDA_PYTHON_SYSCONFIGDATA_NAME": "_sysconfigdata_x86_64_conda_cos6_linux_gnu"
      },
      "language": "python",
      "metadata": {
        "cocalc": {
          "description": "Python/R distribution for data science",
          "priority": 5,
          "url": "https://www.anaconda.com/distribution/"
        }
      },
      "name": "anaconda2020"
    },
    "language_info": {
      "codemirror_mode": {
        "name": "ipython",
        "version": 3
      },
      "file_extension": ".py",
      "mimetype": "text/x-python",
      "name": "python",
      "nbconvert_exporter": "python",
      "pygments_lexer": "ipython3",
      "version": "3.7.8"
    },
    "colab": {
      "name": "CS146_Session7.2.ipynb",
      "provenance": [],
      "include_colab_link": true
    }
  },
  "cells": [
    {
      "cell_type": "markdown",
      "metadata": {
        "id": "view-in-github",
        "colab_type": "text"
      },
      "source": [
        "<a href=\"https://colab.research.google.com/github/lanceaquino/CS146/blob/main/CS146_Session7_2.ipynb\" target=\"_parent\"><img src=\"https://colab.research.google.com/assets/colab-badge.svg\" alt=\"Open In Colab\"/></a>"
      ]
    },
    {
      "cell_type": "markdown",
      "metadata": {
        "collapsed": false,
        "id": "2OSLGn355K3x"
      },
      "source": [
        "# Modeling elections"
      ]
    },
    {
      "cell_type": "code",
      "metadata": {
        "id": "Z60hyaKR5K32"
      },
      "source": [
        "import numpy as np\n",
        "import scipy.stats as sts\n",
        "import matplotlib.pyplot as plt\n",
        "import pystan"
      ],
      "execution_count": 1,
      "outputs": []
    },
    {
      "cell_type": "markdown",
      "metadata": {
        "collapsed": false,
        "id": "dpQQN7b-5K33"
      },
      "source": [
        "## Data\n",
        "\n",
        "The `electoral_votes` variable is a dictionary containing the number of Electoral College votes for each state. For example\n",
        "```\n",
        "  >>> electoral_votes['Indiana']\n",
        "  11\n",
        "```\n",
        "Data from [Wikipedia: United_States_Electoral_College](https://en.wikipedia.org/wiki/United_States_Electoral_College)\n",
        "\n",
        "The `survey_results` variable is a dictionary mapping from states to an array of survey results for each candidate. Each row in a survey results array represents one survey and each column represents one candidate. There are 3 columns, representing Trump (Republican), Biden (Democrat), and Other in that order. In the example below, Trump got 340 votes in the first survey, Biden got 258, and Other got 40.\n",
        "```\n",
        "  >>> survey_results['Indiana']\n",
        "  array([[340, 258,  40],\n",
        "         [240, 155,  10],\n",
        "         [235, 155,  70],\n",
        "         [308, 266,  84],\n",
        "         [222, 161, 110]])\n",
        "```\n",
        "Data from [Wikipedia: Statewide opinion polling for the 2020 United States presidential election](https://en.wikipedia.org/wiki/Statewide_opinion_polling_for_the_2020_United_States_presidential_election)\n"
      ]
    },
    {
      "cell_type": "code",
      "metadata": {
        "colab": {
          "base_uri": "https://localhost:8080/"
        },
        "id": "04OlOFKe5K33",
        "outputId": "bd348327-487b-46bc-cccc-26c103de9594"
      },
      "source": [
        "electoral_votes = {\n",
        "    'Alabama': 9,\n",
        "    'Alaska': 3,\n",
        "    'Arizona': 11,\n",
        "    'Arkansas': 6,\n",
        "    'Colorado': 9,\n",
        "}\n",
        "\n",
        "survey_results = {\n",
        "    'Alabama': np.array([[611, 397, 0, 0], [799, 528, 0, 0], [793, 403, 0, 0], [288, 264, 0, 0], [353, 219, 0, 0], [997, 554, 0, 0], [312, 232, 0, 0], [409, 227, 0, 0], [319, 234, 0, 0]]),\n",
        "    'Alaska': np.array([[348, 320, 0, 0], [298, 253, 0, 0], [283, 277, 0, 0], [269, 198, 0, 0], [227, 177, 0, 0], [442, 389, 0, 0], [519, 486, 0, 0], [325, 318, 0, 0], [84, 74, 0, 0]]),\n",
        "    'Arizona': np.array([[522, 478, 22, 0], [313, 356, 7, 7], [291, 304, 0, 0], [270, 288, 0, 0], [236, 264, 16, 0], [180, 184, 0, 0], [133, 151, 0, 0], [269, 321, 20, 0], [230, 250, 5, 0], [3337, 3621, 0, 0], [360, 392, 0, 0], [235, 235, 0, 0], [364, 396, 8, 0], [383, 409, 9, 9], [221, 216, 0, 0], [113, 128, 0, 0], [284, 278, 0, 0], [168, 212, 0, 0], [258, 270, 0, 0], [260, 266, 0, 0], [359, 402, 9, 0], [185, 202, 17, 0], [261, 320, 26, 0], [519, 584, 0, 0], [328, 342, 0, 0], [487, 520, 0, 0], [252, 312, 0, 0], [752, 768, 0, 0], [414, 441, 0, 0], [212, 230, 0, 0], [357, 398, 0, 8], [309, 378, 23, 0], [3357, 3034, 0, 0], [396, 490, 0, 0], [162, 169, 0, 0], [325, 402, 9, 9], [445, 426, 0, 0], [311, 350, 0, 0], [188, 193, 0, 0], [466, 456, 30, 0], [271, 295, 0, 0], [204, 192, 0, 0], [522, 547, 24, 12], [2547, 2348, 0, 0], [164, 172, 0, 0], [381, 445, 0, 0], [393, 428, 0, 0], [326, 395, 17, 9], [372, 413, 0, 0], [432, 470, 0, 0], [315, 343, 0, 0], [155, 176, 0, 0], [500, 500, 0, 0], [264, 294, 0, 0], [1230, 1088, 0, 0], [270, 282, 0, 0], [137, 159, 0, 0], [258, 237, 0, 0], [337, 372, 17, 9], [266, 312, 0, 0], [616, 670, 0, 0], [88, 90, 0, 0], [421, 461, 0, 0], [148, 145, 0, 0], [368, 353, 0, 0], [180, 188, 0, 0], [388, 426, 0, 0], [258, 300, 0, 0], [230, 235, 0, 0], [258, 312, 0, 0]]),\n",
        "    'Arkansas': np.array([[478, 293, 0, 0], [462, 220, 0, 0], [493, 239, 0, 0], [209, 135, 0, 0], [408, 391, 0, 0]]),\n",
        "    'Colorado': np.array([[408, 510, 0, 0], [1114, 1549, 0, 0], [283, 322, 0, 0], [320, 400, 0, 0], [312, 400, 32, 8], [978, 1359, 0, 0], [262, 325, 0, 0], [252, 306, 0, 0], [246, 307, 0, 0], [246, 306, 0, 0], [240, 312, 0, 0], [935, 1355, 0, 0], [240, 320, 0, 0], [246, 306, 0, 0], [365, 481, 0, 0], [328, 470, 0, 0], [457, 620, 0, 0], [240, 286, 0, 0], [280, 371, 0, 0], [216, 330, 0, 0], [133, 201, 0, 0]]),\n",
        "}\n",
        "\n",
        "for key, value in survey_results.items():\n",
        "    survey_results[key] = np.concatenate((value[:,:2], value[:,2:3] + value[:,3:4]), axis=1)\n",
        "\n",
        "states = sorted(survey_results.keys())\n",
        "print('Modeling', len(states), 'states with', sum(electoral_votes[s] for s in states), 'electoral college votes')"
      ],
      "execution_count": 2,
      "outputs": [
        {
          "output_type": "stream",
          "text": [
            "Modeling 5 states with 38 electoral college votes\n"
          ],
          "name": "stdout"
        }
      ]
    },
    {
      "cell_type": "code",
      "metadata": {
        "id": "8PUtNUxX9yJi"
      },
      "source": [
        ""
      ],
      "execution_count": 17,
      "outputs": []
    },
    {
      "cell_type": "markdown",
      "metadata": {
        "collapsed": false,
        "id": "zhoVM4355K35"
      },
      "source": [
        "## Generative model\n",
        "\n",
        "1. For each state we generate an $\\vec{\\alpha}$ vector, which defines a Dirichlet distribution over the proportion of votes that go to each of the 3 candidates whenever we do a survey – including the final survey, namely the election itself which we want to predict. The prior over each component of $\\vec{\\alpha}$ is taken as a Cauchy distribution with location 0 and scale 1. Since the components of $\\vec{\\alpha}$ are positive, we actually use the positive half-Cauchy distribution.\n",
        "\n",
        "2. For each survey in a state we generate a probability vector $\\vec{p_i} \\sim \\text{Dirichlet}(\\vec{\\alpha})$ for the probability that a voter selects each of the 3 candidates.\n",
        "\n",
        "3. For each survey, we then generate the number of votes going to each candidate as $\\vec{k_i} \\sim \\text{Multinomial}(\\vec{p_i})$.\n",
        "\n",
        "### Tasks\n",
        "\n",
        "* Use Stan to sample from the posterior distribution over $\\alpha$ and visualize your results. There are 5 states, so you will have 5 posteriors.\n",
        "* The posteriors over $\\alpha$ show a lot of variation between different states. Explain the results you get in terms of the model and the data."
      ]
    },
    {
      "cell_type": "code",
      "metadata": {
        "colab": {
          "base_uri": "https://localhost:8080/"
        },
        "id": "T7gYesPD5K35",
        "outputId": "445761dd-4b8f-4197-ed70-b1a77b1f3117"
      },
      "source": [
        "stan_code = '''\n",
        "data {\n",
        "int<lower = 1> num_surveys;     \n",
        "int<lower = 1> num_cand;          \n",
        "int vote_counts[num_surveys, num_cand];    \n",
        "\n",
        "}\n",
        "\n",
        "parameters {\n",
        "vector<lower = 0>[num_cand] alpha;\n",
        "simplex[num_cand] theta[num_surveys];\n",
        "\n",
        "}\n",
        "\n",
        "model {\n",
        "alpha ~ cauchy(0, 1);\n",
        "\n",
        "for (i in 1:num_surveys) {\n",
        "  theta[i] ~ dirichlet(alpha);\n",
        "  vote_counts[i] ~ multinomial(theta[i]);\n",
        "}\n",
        "\n",
        "}\n",
        "'''\n",
        "\n",
        "stan_model = pystan.StanModel(model_code=stan_code)"
      ],
      "execution_count": 52,
      "outputs": [
        {
          "output_type": "stream",
          "text": [
            "INFO:pystan:COMPILING THE C++ CODE FOR MODEL anon_model_d4a36ef64602c76cffdcc136517c500e NOW.\n"
          ],
          "name": "stderr"
        }
      ]
    },
    {
      "cell_type": "code",
      "metadata": {
        "colab": {
          "base_uri": "https://localhost:8080/"
        },
        "id": "2UgfNS7D5K36",
        "outputId": "d9d777a3-11bb-4bc9-fa90-dff317c1e559"
      },
      "source": [
        "stan_data = {}\n",
        "\n",
        "for state in survey_results:\n",
        "  stan_data[state] = {'num_surveys' : len(survey_results[state]),\n",
        "                       'num_cand' : 3,\n",
        "                       'vote_counts' : survey_results[state]}\n",
        "\n",
        "stan_data[\"Alabama\"]"
      ],
      "execution_count": 53,
      "outputs": [
        {
          "output_type": "execute_result",
          "data": {
            "text/plain": [
              "{'num_cand': 3, 'num_surveys': 9, 'vote_counts': array([[611, 397,   0],\n",
              "        [799, 528,   0],\n",
              "        [793, 403,   0],\n",
              "        [288, 264,   0],\n",
              "        [353, 219,   0],\n",
              "        [997, 554,   0],\n",
              "        [312, 232,   0],\n",
              "        [409, 227,   0],\n",
              "        [319, 234,   0]])}"
            ]
          },
          "metadata": {
            "tags": []
          },
          "execution_count": 53
        }
      ]
    },
    {
      "cell_type": "code",
      "metadata": {
        "colab": {
          "base_uri": "https://localhost:8080/"
        },
        "id": "9NnXIB7TSt8g",
        "outputId": "c029d010-66b8-4785-dc04-340b4eef5079"
      },
      "source": [
        "AL = stan_model.sampling(data = stan_data['Alabama'])\n",
        "AK = stan_model.sampling(data = stan_data['Alaska'])\n",
        "AZ = stan_model.sampling(data = stan_data['Arizona'])\n",
        "AR = stan_model.sampling(data = stan_data['Arkansas'])\n",
        "CO = stan_model.sampling(data = stan_data['Colorado'])"
      ],
      "execution_count": 54,
      "outputs": [
        {
          "output_type": "stream",
          "text": [
            "WARNING:pystan:1362 of 4000 iterations ended with a divergence (34 %).\n",
            "WARNING:pystan:Try running with adapt_delta larger than 0.8 to remove the divergences.\n",
            "WARNING:pystan:899 of 4000 iterations ended with a divergence (22.5 %).\n",
            "WARNING:pystan:Try running with adapt_delta larger than 0.8 to remove the divergences.\n",
            "WARNING:pystan:1316 of 4000 iterations ended with a divergence (32.9 %).\n",
            "WARNING:pystan:Try running with adapt_delta larger than 0.8 to remove the divergences.\n",
            "WARNING:pystan:1045 of 4000 iterations ended with a divergence (26.1 %).\n",
            "WARNING:pystan:Try running with adapt_delta larger than 0.8 to remove the divergences.\n",
            "WARNING:pystan:2031 of 4000 iterations ended with a divergence (50.8 %).\n",
            "WARNING:pystan:Try running with adapt_delta larger than 0.8 to remove the divergences.\n"
          ],
          "name": "stderr"
        }
      ]
    },
    {
      "cell_type": "markdown",
      "metadata": {
        "collapsed": false,
        "id": "NIGivCon5K36"
      },
      "source": [
        "## Simulation time\n",
        "\n",
        "Use the posterior samples to predict the outcome of the presidential elections.\n",
        "\n",
        "* Predict the probability that each candidate will win each state.\n",
        "   * Use the posterior $\\alpha$ samples to generate posterior predictive samples for $p$ – the proportion of votes each candidate would get in each state in an election.\n",
        "   * Use these $p$ samples to estimate the probability that each candidate will win each state.\n",
        "* Predict the probability that each candidate will win the presidential election.\n",
        "   * Use the posterior predictive probability that each candidate will win each state to generate samples over the total number Electoral College votes each candidate would get in an election.\n",
        "   * Use the total number of votes to generate samples over who would win the election."
      ]
    },
    {
      "cell_type": "markdown",
      "metadata": {
        "id": "22mcJ9UhW9j6"
      },
      "source": [
        "### Probability that a Candidate will win each state "
      ]
    },
    {
      "cell_type": "code",
      "metadata": {
        "colab": {
          "base_uri": "https://localhost:8080/"
        },
        "id": "nfb5KoPE5K36",
        "outputId": "870c3021-f703-4a0a-ba77-30e1d97bdb12"
      },
      "source": [
        "print(AL.stansummary(pars = ['alpha'], probs = [0.025, 0.975]))\n",
        "print(AK.stansummary(pars = ['alpha'], probs = [0.025, 0.975]))\n",
        "print(AZ.stansummary(pars = ['alpha'], probs = [0.025, 0.975]))\n",
        "print(AR.stansummary(pars = ['alpha'], probs = [0.025, 0.975]))\n",
        "print(CO.stansummary(pars = ['alpha'], probs = [0.025, 0.975]))\n",
        "\n"
      ],
      "execution_count": 86,
      "outputs": [
        {
          "output_type": "stream",
          "text": [
            "Inference for Stan model: anon_model_d4a36ef64602c76cffdcc136517c500e.\n",
            "4 chains, each with iter=2000; warmup=1000; thin=1; \n",
            "post-warmup draws per chain=1000, total post-warmup draws=4000.\n",
            "\n",
            "           mean se_mean     sd   2.5%  97.5%  n_eff   Rhat\n",
            "alpha[1]  76.01    4.52  61.42  12.06  250.5    185   1.02\n",
            "alpha[2]  49.16    2.86   39.2   7.66 157.58    188   1.02\n",
            "alpha[3]   0.12  2.5e-3   0.06   0.05   0.27    586    1.0\n",
            "\n",
            "Samples were drawn using NUTS at Wed Feb 24 18:35:10 2021.\n",
            "For each parameter, n_eff is a crude measure of effective sample size,\n",
            "and Rhat is the potential scale reduction factor on split chains (at \n",
            "convergence, Rhat=1).\n",
            "Inference for Stan model: anon_model_d4a36ef64602c76cffdcc136517c500e.\n",
            "4 chains, each with iter=2000; warmup=1000; thin=1; \n",
            "post-warmup draws per chain=1000, total post-warmup draws=4000.\n",
            "\n",
            "           mean se_mean     sd   2.5%  97.5%  n_eff   Rhat\n",
            "alpha[1]  318.1   22.75 307.14  33.36 1108.0    182   1.04\n",
            "alpha[2] 282.27   20.35 274.83  29.14 974.91    182   1.04\n",
            "alpha[3]   0.22  9.1e-3   0.16   0.06   0.65    321   1.03\n",
            "\n",
            "Samples were drawn using NUTS at Wed Feb 24 18:35:28 2021.\n",
            "For each parameter, n_eff is a crude measure of effective sample size,\n",
            "and Rhat is the potential scale reduction factor on split chains (at \n",
            "convergence, Rhat=1).\n",
            "Inference for Stan model: anon_model_d4a36ef64602c76cffdcc136517c500e.\n",
            "4 chains, each with iter=2000; warmup=1000; thin=1; \n",
            "post-warmup draws per chain=1000, total post-warmup draws=4000.\n",
            "\n",
            "           mean se_mean     sd   2.5%  97.5%  n_eff   Rhat\n",
            "alpha[1]  43.93    0.21   7.65   30.6  60.22   1280    1.0\n",
            "alpha[2]  47.12    0.23   8.18  32.97   64.4   1310    1.0\n",
            "alpha[3]    0.2  2.1e-3   0.04   0.13   0.29    447   1.01\n",
            "\n",
            "Samples were drawn using NUTS at Wed Feb 24 18:36:31 2021.\n",
            "For each parameter, n_eff is a crude measure of effective sample size,\n",
            "and Rhat is the potential scale reduction factor on split chains (at \n",
            "convergence, Rhat=1).\n",
            "Inference for Stan model: anon_model_d4a36ef64602c76cffdcc136517c500e.\n",
            "4 chains, each with iter=2000; warmup=1000; thin=1; \n",
            "post-warmup draws per chain=1000, total post-warmup draws=4000.\n",
            "\n",
            "           mean se_mean     sd   2.5%  97.5%  n_eff   Rhat\n",
            "alpha[1]  15.95    0.91  17.65   1.48  64.73    375   1.01\n",
            "alpha[2]   9.91    0.55  10.87   1.03  40.11    387   1.01\n",
            "alpha[3]   0.12  2.2e-3   0.07   0.03    0.3    958   1.01\n",
            "\n",
            "Samples were drawn using NUTS at Wed Feb 24 18:36:35 2021.\n",
            "For each parameter, n_eff is a crude measure of effective sample size,\n",
            "and Rhat is the potential scale reduction factor on split chains (at \n",
            "convergence, Rhat=1).\n",
            "Inference for Stan model: anon_model_d4a36ef64602c76cffdcc136517c500e.\n",
            "4 chains, each with iter=2000; warmup=1000; thin=1; \n",
            "post-warmup draws per chain=1000, total post-warmup draws=4000.\n",
            "\n",
            "           mean se_mean     sd   2.5%  97.5%  n_eff   Rhat\n",
            "alpha[1]  69.61    1.11  26.37  30.83 134.58    565   1.01\n",
            "alpha[2]  91.36    1.45  34.64  40.56 176.01    569   1.01\n",
            "alpha[3]   0.13  2.1e-3   0.05   0.06   0.25    493   1.01\n",
            "\n",
            "Samples were drawn using NUTS at Wed Feb 24 18:36:56 2021.\n",
            "For each parameter, n_eff is a crude measure of effective sample size,\n",
            "and Rhat is the potential scale reduction factor on split chains (at \n",
            "convergence, Rhat=1).\n"
          ],
          "name": "stdout"
        }
      ]
    },
    {
      "cell_type": "markdown",
      "metadata": {
        "id": "Q8FMLpzOZaEV"
      },
      "source": [
        "The winners of the election are marked as \"X\" \n",
        "\n",
        "|  States  | Candidate 1 | Candidate 3 | Candidate 3 |\n",
        "|:--------:|-------------|-------------|-------------|\n",
        "| Alabama  |      X      |             |             |\n",
        "| Alaska   |      X      |             |             |\n",
        "| Arizona  |             |      X      |             |\n",
        "| Arkansas |      X      |             |             |\n",
        "| Colorado |             |      X      |             |"
      ]
    },
    {
      "cell_type": "code",
      "metadata": {
        "id": "PwsSlfX-VJZT"
      },
      "source": [
        " "
      ],
      "execution_count": null,
      "outputs": []
    }
  ]
}