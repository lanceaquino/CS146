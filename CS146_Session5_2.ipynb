{
  "nbformat": 4,
  "nbformat_minor": 0,
  "metadata": {
    "kernelspec": {
      "display_name": "Python 3",
      "language": "python",
      "name": "python3"
    },
    "language_info": {
      "codemirror_mode": {
        "name": "ipython",
        "version": 3
      },
      "file_extension": ".py",
      "mimetype": "text/x-python",
      "name": "python",
      "nbconvert_exporter": "python",
      "pygments_lexer": "ipython3",
      "version": "3.8.5"
    },
    "colab": {
      "name": "CS146_Session5.2.ipynb",
      "provenance": [],
      "collapsed_sections": [],
      "include_colab_link": true
    }
  },
  "cells": [
    {
      "cell_type": "markdown",
      "metadata": {
        "id": "view-in-github",
        "colab_type": "text"
      },
      "source": [
        "<a href=\"https://colab.research.google.com/github/lanceaquino/CS146/blob/main/CS146_Session5_2.ipynb\" target=\"_parent\"><img src=\"https://colab.research.google.com/assets/colab-badge.svg\" alt=\"Open In Colab\"/></a>"
      ]
    },
    {
      "cell_type": "markdown",
      "metadata": {
        "id": "AT-mNFygxNUG"
      },
      "source": [
        "# Pre-class work\n",
        "Below is the data set from 6 medical trials on the effect of specific allergen immunotherapy (SIT) on eczema patients.\n",
        "\n",
        "| Study          | TG improved      | TG not improved   | CG improved    | CG not improved   |\n",
        "|:-------------- | --------:| ------:| ------:| ------:|\n",
        "| Di Rienzo 2014 | 20       | 3      | 9      | 6      |\n",
        "| Galli 1994     | 10       | 6      | 11     | 7      |\n",
        "| Kaufman 1974   | 13       | 3      | 4      | 6      |\n",
        "| Qin 2014       | 35       | 10     | 21     | 18     |\n",
        "| Sanchez 2012   | 22       | 9      | 12     | 17     |\n",
        "| Silny 2006     | 7        | 3      | 0      | 10     |\n",
        "| **Totals**     | **107**  | **34** | **57** | **64** |\n",
        "\n",
        "* TG = Treatment group\n",
        "* CG = Control group\n",
        "\n",
        "The model we used was that each trial's results were generated from a binomial distribution over the number of improved patients with a common improvement rate parameter shared between all trials.\n",
        "\n",
        "For the treatment group we use a subscript $t$:\n",
        "\n",
        "$$\\begin{align}\n",
        "k_{ti} &\\sim \\text{Binomial}(n_{ti}, p_t) \\qquad i=1,2,\\ldots 6\\\\\n",
        "p_t &\\sim \\text{Beta}(\\alpha=1, \\beta=1)\n",
        "\\end{align}$$\n",
        "\n",
        "For the control group we use a subscript $c$:\n",
        "\n",
        "$$\\begin{align}\n",
        "k_{ci} &\\sim \\text{Binomial}(n_{ci}, p_c) \\qquad i=1,2,\\ldots 6\\\\\n",
        "p_c &\\sim \\text{Beta}(\\alpha=1, \\beta=1)\n",
        "\\end{align}$$\n",
        "\n",
        "So we have the same model structure for the treatment and control groups, just with different data.\n",
        "\n",
        "The code below implements the Stan model for the scenario above.\n",
        "\n",
        "* Carefully **read through the code**, including all comments, to understand how Stan is used to represent the medical trial model.\n",
        "* **Run the code** to see inference results for the treatment group.\n",
        "* **Complete the two tasks** at the end of the notebook."
      ]
    },
    {
      "cell_type": "code",
      "metadata": {
        "id": "pbfziyN1xNUH"
      },
      "source": [
        "import pystan\n",
        "\n",
        "import numpy as np\n",
        "import matplotlib.pyplot as plt"
      ],
      "execution_count": null,
      "outputs": []
    },
    {
      "cell_type": "code",
      "metadata": {
        "id": "Cb813q-IxNUI"
      },
      "source": [
        "# For Stan we provide all known quantities as data, namely the observed data\n",
        "# and our prior hyperparameters.\n",
        "eczema_data = {\n",
        "    'treatment': {\n",
        "        'alpha': 1,  # fixed prior hyperparameters for the\n",
        "        'beta': 1,   # beta distribution\n",
        "        'num_trials': 6,  # number of trials in the data set\n",
        "        'patients': [23, 16, 16, 45, 31, 10],  # number of patients per trial\n",
        "        'improved': [20, 10, 13, 35, 22, 7]},  # number of improved patients per trial\n",
        "    'control': {\n",
        "        'alpha': 1,\n",
        "        'beta': 1,\n",
        "        'num_trials': 6,\n",
        "        'patients': [15, 18, 10, 39, 29, 10],\n",
        "        'improved': [9, 11, 4, 21, 12, 0]}}"
      ],
      "execution_count": null,
      "outputs": []
    },
    {
      "cell_type": "code",
      "metadata": {
        "id": "GjczvSBExNUJ"
      },
      "source": [
        "# Below is the Stan code for the medical trial data set. Note that the Stan\n",
        "# code is a string that is passed to the StanModel object below.\n",
        "\n",
        "# We have to tell Stan what data to expect, what our parameters are and what\n",
        "# the likelihood and prior are. Since the posterior is just proportional to\n",
        "# the product of the likelihood and the prior, we don't distinguish between\n",
        "# them explicitly in the model below. Every distribution we specify is\n",
        "# automatically incorporated into the product of likelihood * prior.\n",
        "\n",
        "stan_code = \"\"\"\n",
        "\n",
        "// The data block contains all known quantities - typically the observed\n",
        "// data and any constant hyperparameters.\n",
        "data {  \n",
        "    int<lower=1> num_trials;  // number of trials in the data set\n",
        "    int<lower=0> patients[num_trials];  // number of patients per trial\n",
        "    int<lower=0> improved[num_trials];  // number of improved patients per trial\n",
        "    real<lower=0> alpha;  // fixed prior hyperparameter\n",
        "    real<lower=0> beta;   // fixed prior hyperparameter\n",
        "}\n",
        "\n",
        "// The parameters block contains all unknown quantities - typically the\n",
        "// parameters of the model. Stan will generate samples from the posterior\n",
        "// distributions over all parameters.\n",
        "parameters {\n",
        "    real<lower=0,upper=1> p;  // probability of improvement - the\n",
        "                              // parameter of the binomial likelihood\n",
        "}\n",
        "\n",
        "// The model block contains all probability distributions in the model.\n",
        "// This of this as specifying the generative model for the scenario.\n",
        "model {\n",
        "    p ~ beta(alpha, beta);  // prior over p\n",
        "    for(i in 1:num_trials) {\n",
        "        improved[i] ~ binomial(patients[i], p);  // likelihood function\n",
        "    }\n",
        "}\n",
        "\n",
        "\"\"\""
      ],
      "execution_count": null,
      "outputs": []
    },
    {
      "cell_type": "code",
      "metadata": {
        "colab": {
          "base_uri": "https://localhost:8080/"
        },
        "id": "Ffb6Y6AkxNUJ",
        "outputId": "6a674688-6cb9-4fdd-8a90-e060d8addf78"
      },
      "source": [
        "# This cell takes a while to run. Compiling a Stan model will feel slow even\n",
        "# on simple models, but it isn't much slower for really complex models. Stan\n",
        "# is translating the model specified above to C++ code and compiling the C++\n",
        "# code to a binary that it can executed. The advantage is that the model needs\n",
        "# to be compiled only once. Once that is done, the same code can be reused\n",
        "# to generate samples for different data sets really quickly.\n",
        "\n",
        "stan_model = pystan.StanModel(model_code=stan_code)"
      ],
      "execution_count": null,
      "outputs": [
        {
          "output_type": "stream",
          "text": [
            "INFO:pystan:COMPILING THE C++ CODE FOR MODEL anon_model_4822bea325d0250e03828b3bc1bb8bdd NOW.\n"
          ],
          "name": "stderr"
        }
      ]
    },
    {
      "cell_type": "code",
      "metadata": {
        "id": "gAj6cjntxNUK"
      },
      "source": [
        "# Fit the model to the data. This will generate samples from the posterior over\n",
        "# all parameters of the model. We start by computing posteriors for the treatment\n",
        "# data.\n",
        "\n",
        "stan_results = stan_model.sampling(data=eczema_data['treatment'])"
      ],
      "execution_count": null,
      "outputs": []
    },
    {
      "cell_type": "code",
      "metadata": {
        "collapsed": true,
        "jupyter": {
          "outputs_hidden": true
        },
        "colab": {
          "base_uri": "https://localhost:8080/"
        },
        "id": "stx3LXe2xNUK",
        "outputId": "be83e737-1de2-41b9-ce31-21779198d24e"
      },
      "source": [
        "# Print out the mean, standard deviation and quantiles of all parameters.\n",
        "# These are approximate values derived from the samples generated by Stan.\n",
        "# You can ignore the \"lp__\" row for now. Pay attention to the row for\n",
        "# the \"p\" parameter of the model.\n",
        "#\n",
        "# The columns in the summary are\n",
        "#\n",
        "#  * mean: The expected value of the posterior over the parameter\n",
        "#  * se_mean: The estimated error in the posterior mean\n",
        "#  * sd: The standard deviation of the posterior over the parameter\n",
        "#  * 2.5%, etc.: Percentiles of the posterior over the parameter\n",
        "#  * n_eff: The effective number of samples generated by Stan. The\n",
        "#           larger this value, the better.\n",
        "#  * Rhat: An estimate of the quality of the samples. This should be\n",
        "#          close to 1.0, otherwise there might be a problem with the\n",
        "#          convergence of the sampler.\n",
        "\n",
        "print(stan_results)"
      ],
      "execution_count": null,
      "outputs": [
        {
          "output_type": "stream",
          "text": [
            "Inference for Stan model: anon_model_4822bea325d0250e03828b3bc1bb8bdd.\n",
            "4 chains, each with iter=2000; warmup=1000; thin=1; \n",
            "post-warmup draws per chain=1000, total post-warmup draws=4000.\n",
            "\n",
            "       mean se_mean     sd   2.5%    25%    50%    75%  97.5%  n_eff   Rhat\n",
            "p      0.76  9.3e-4   0.04   0.68   0.73   0.76   0.78   0.83   1490    1.0\n",
            "lp__ -80.09    0.02   0.73 -82.18 -80.24  -79.8 -79.63 -79.58   1822    1.0\n",
            "\n",
            "Samples were drawn using NUTS at Wed Feb 10 16:30:07 2021.\n",
            "For each parameter, n_eff is a crude measure of effective sample size,\n",
            "and Rhat is the potential scale reduction factor on split chains (at \n",
            "convergence, Rhat=1).\n"
          ],
          "name": "stdout"
        }
      ]
    },
    {
      "cell_type": "code",
      "metadata": {
        "collapsed": true,
        "jupyter": {
          "outputs_hidden": true
        },
        "colab": {
          "base_uri": "https://localhost:8080/"
        },
        "id": "MUW1liugxNUL",
        "outputId": "ae4b15e8-3f84-4df6-cdaa-b842ee5cda9f"
      },
      "source": [
        "# Specify which parameters you want to see in the summary table using\n",
        "# the \"pars\" keyword argument. Specify which percentiles you want to\n",
        "# see using the \"probs\" keyword argument.\n",
        "#\n",
        "# The statement below shows only the 2.5, 50, 97.5 percentiles for the\n",
        "# parameter p.\n",
        "\n",
        "print(stan_results.stansummary(pars=['p'], probs=[0.025, 0.5, 0.975]))"
      ],
      "execution_count": null,
      "outputs": [
        {
          "output_type": "stream",
          "text": [
            "Inference for Stan model: anon_model_4822bea325d0250e03828b3bc1bb8bdd.\n",
            "4 chains, each with iter=2000; warmup=1000; thin=1; \n",
            "post-warmup draws per chain=1000, total post-warmup draws=4000.\n",
            "\n",
            "    mean se_mean     sd   2.5%    50%  97.5%  n_eff   Rhat\n",
            "p   0.76  9.3e-4   0.04   0.68   0.76   0.83   1490    1.0\n",
            "\n",
            "Samples were drawn using NUTS at Wed Feb 10 16:30:07 2021.\n",
            "For each parameter, n_eff is a crude measure of effective sample size,\n",
            "and Rhat is the potential scale reduction factor on split chains (at \n",
            "convergence, Rhat=1).\n"
          ],
          "name": "stdout"
        }
      ]
    },
    {
      "cell_type": "code",
      "metadata": {
        "collapsed": true,
        "jupyter": {
          "outputs_hidden": true
        },
        "colab": {
          "base_uri": "https://localhost:8080/",
          "height": 298
        },
        "id": "mzaCYYQjxNUL",
        "outputId": "422fd3b6-d7ce-4a32-88bc-c0e2cff173a7"
      },
      "source": [
        "# Finally, we can extract the samples generated by Stan so that we\n",
        "# can plot them or calculate any other functions or expected values\n",
        "# we might be interested in.\n",
        "\n",
        "posterior_samples = stan_results.extract()\n",
        "plt.hist(posterior_samples['p'], bins=50, density=True)\n",
        "plt.title('Sampled posterior probability density for p')\n",
        "conf_int = np.percentile(posterior_samples['p'], [2.5,97.5])\n",
        "print(\"Posterior 95% confidence interval for p:\",conf_int)\n",
        "\n",
        "plt.axvline(conf_int[0], color = 'red', ls = '--')\n",
        "plt.axvline(conf_int[1], color = 'red', ls = '--')\n",
        "plt.show()"
      ],
      "execution_count": null,
      "outputs": [
        {
          "output_type": "stream",
          "text": [
            "Posterior 95% confidence interval for p: [0.68171566 0.82534858]\n"
          ],
          "name": "stdout"
        },
        {
          "output_type": "display_data",
          "data": {
            "image/png": "[encoded data removed]",
            "text/plain": [
              "<Figure size 432x288 with 1 Axes>"
            ]
          },
          "metadata": {
            "tags": [],
            "needs_background": "light"
          }
        }
      ]
    },
    {
      "cell_type": "code",
      "metadata": {
        "id": "bgZ74YVi-CQu"
      },
      "source": [
        ""
      ],
      "execution_count": null,
      "outputs": []
    },
    {
      "cell_type": "markdown",
      "metadata": {
        "id": "l8n1C2xFxNUM"
      },
      "source": [
        "## Task 1\n",
        "* Reuse the code above to calculate the posterior 95% confidence interval for the probability of improvement in the **control group**.\n",
        "* Plot the posterior histograms of the probability of improvement in the treatment and control groups on the same figure."
      ]
    },
    {
      "cell_type": "code",
      "metadata": {
        "collapsed": true,
        "jupyter": {
          "outputs_hidden": true
        },
        "colab": {
          "base_uri": "https://localhost:8080/",
          "height": 315
        },
        "id": "4ycs9t3hxNUM",
        "outputId": "f954e437-3d4a-4583-9485-fe0e7e6bd5f2"
      },
      "source": [
        "stan_results_control = stan_model.sampling(data=eczema_data['control'])\n",
        "\n",
        "### TREATMENT ### \n",
        "posterior_samples = stan_results.extract()\n",
        "plt.hist(posterior_samples['p'], bins=50, density=True, label = 'Treatment')\n",
        "plt.title('Sampled posterior probability density for p')\n",
        "conf_int = np.percentile(posterior_samples['p'], [2.5,97.5])\n",
        "print(\"Posterior 95% confidence interval for p:\",conf_int)\n",
        "\n",
        "plt.axvline(conf_int[0], color = 'red', ls = '--', label = '95% Confidence Interval')\n",
        "plt.axvline(conf_int[1], color = 'red', ls = '--')\n",
        "\n",
        "### CONTROL ### \n",
        "posterior_samples_control = stan_results_control.extract()\n",
        "plt.hist(posterior_samples_control['p'], bins=50, density=True, label = 'Control')\n",
        "plt.title('Sampled posterior probability density for p')\n",
        "\n",
        "conf_int_control = np.percentile(posterior_samples_control['p'], [2.5,97.5])\n",
        "print(\"Posterior 95% confidence interval for p:\",conf_int_control)\n",
        "\n",
        "plt.axvline(conf_int_control[0], color = 'red', ls = '--')\n",
        "plt.axvline(conf_int_control[1], color = 'red', ls = '--')\n",
        "plt.legend(bbox_to_anchor=(1, 1.025))\n",
        "plt.show()"
      ],
      "execution_count": null,
      "outputs": [
        {
          "output_type": "stream",
          "text": [
            "Posterior 95% confidence interval for p: [0.68171566 0.82534858]\n",
            "Posterior 95% confidence interval for p: [0.38925041 0.55724317]\n"
          ],
          "name": "stdout"
        },
        {
          "output_type": "display_data",
          "data": {
            "image/png": "[encoded data removed]",
            "text/plain": [
              "<Figure size 432x288 with 1 Axes>"
            ]
          },
          "metadata": {
            "tags": [],
            "needs_background": "light"
          }
        }
      ]
    },
    {
      "cell_type": "markdown",
      "metadata": {
        "id": "uWJZr_xcxNUM"
      },
      "source": [
        "## Task 2\n",
        "* Using the samples from the treatment and control group posteriors, estimate the probability that treatment is at least 19% (in absolute terms) better than control, $P(p_t > p_c + 0.19)$. We computed this result in Session 3.2 where we solved the same model analytically using the algebra of conjugate distributions."
      ]
    },
    {
      "cell_type": "code",
      "metadata": {
        "collapsed": true,
        "jupyter": {
          "outputs_hidden": true
        },
        "colab": {
          "base_uri": "https://localhost:8080/"
        },
        "id": "PlQgqNo4xNUN",
        "outputId": "15a7cd41-c74b-44d9-f4d4-bb170bbab7b5"
      },
      "source": [
        "expected_control = stan_results.get_posterior_mean()\n",
        "print(\"Expected Control:\", expected_control[0][0]) # Acquiring the mean which I believe to be the one with the least error \n",
        "\n",
        "samples = 100000\n",
        "\n",
        "p_treatment_better = np.mean(posterior_samples['p'] > 0.19 + posterior_samples_control['p'])\n",
        "print(\"Probability that treatment is at least 19% better than control:\", p_treatment_better)"
      ],
      "execution_count": null,
      "outputs": [
        {
          "output_type": "stream",
          "text": [
            "Expected Control: 0.7553129971556125\n",
            "Probability that treatment is at least 19% better than control: 0.9495\n"
          ],
          "name": "stdout"
        }
      ]
    },
    {
      "cell_type": "code",
      "metadata": {
        "id": "24CioLHXEDbr"
      },
      "source": [
        ""
      ],
      "execution_count": null,
      "outputs": []
    },
    {
      "cell_type": "code",
      "metadata": {
        "id": "AFnm2USiFT5T"
      },
      "source": [
        ""
      ],
      "execution_count": null,
      "outputs": []
    }
  ]
}