{
 "cells": [
  {
   "cell_type": "markdown",
   "metadata": {},
   "source": [
    "# Call center data modeling\n",
    "\n",
    "You are advising a client on the number of call center agents they need to handle their customer support load. We start by modeling the number of phone calls we expect to come into the call center during each hour of the day.\n",
    "\n",
    "You are provided with a data set of the intervals between phone calls arriving during one day. Each value is a time in minutes indicating the amount of time that passed between receiving two consecutive phone calls.\n",
    "\n",
    "## Loading the data"
   ]
  },
  {
   "cell_type": "code",
   "execution_count": 6,
   "metadata": {},
   "outputs": [],
   "source": [
    "import numpy as np\n",
    "import scipy as sp\n",
    "import scipy.stats as sts\n",
    "import matplotlib.pyplot as plt\n",
    "\n",
    "%matplotlib inline"
   ]
  },
  {
   "cell_type": "code",
   "execution_count": 7,
   "metadata": {},
   "outputs": [
    {
     "name": "stdout",
     "output_type": "stream",
     "text": [
      "Size of data set: 5856\n",
      "First 3 values in data set: [30.   3.4  3.2]\n",
      "Sum of data set: 1441.6838153800093\n"
     ]
    }
   ],
   "source": [
    "# Load the data set containing durations between calls arriving at the call\n",
    "# center during 1 day. All values are in minutes.\n",
    "waiting_times_day = np.loadtxt('call_center.csv')\n",
    "\n",
    "# Display some basic information about the data set.\n",
    "print('Size of data set:', len(waiting_times_day))\n",
    "print('First 3 values in data set:', waiting_times_day[:3])\n",
    "print('Sum of data set:', sum(waiting_times_day))"
   ]
  },
  {
   "cell_type": "markdown",
   "metadata": {},
   "source": [
    "Since the values are intervals between calls measured in minutes, this means\n",
    "\n",
    "* we assume the first call happened at 00:00 (midnight),\n",
    "* the second call happened at about 00:30 (30 minutes after midnight),\n",
    "* the third call happened at about 00:33 (30 + 3.4 minutes),\n",
    "* the fourth call happened at about 00:37, etc.\n",
    "\n",
    "When we sum the values, we get about 1440 minutes (1 day)."
   ]
  },
  {
   "cell_type": "markdown",
   "metadata": {},
   "source": [
    "You are told that the number of calls arriving varies quite a lot, depending on which hour of the day it is. The smallest number of calls usually occur around 3am or 4am. Most calls usually come in between 11am and 1pm.\n",
    "\n",
    "## Data pre-processing\n",
    "Since we expect different call rates during different hours, we split the data set into 24 separate series — one for each hour of the day."
   ]
  },
  {
   "cell_type": "code",
   "execution_count": 56,
   "metadata": {},
   "outputs": [
    {
     "name": "stdout",
     "output_type": "stream",
     "text": [
      "00:00-01:00 - 5 calls\n",
      "01:00-02:00 - 4 calls\n",
      "02:00-03:00 - 6 calls\n",
      "03:00-04:00 - 8 calls\n",
      "04:00-05:00 - 26 calls\n",
      "05:00-06:00 - 53 calls\n",
      "06:00-07:00 - 93 calls\n",
      "07:00-08:00 - 173 calls\n",
      "08:00-09:00 - 254 calls\n",
      "09:00-10:00 - 345 calls\n",
      "10:00-11:00 - 496 calls\n",
      "11:00-12:00 - 924 calls\n",
      "12:00-13:00 - 858 calls\n",
      "13:00-14:00 - 382 calls\n",
      "14:00-15:00 - 185 calls\n",
      "15:00-16:00 - 207 calls\n",
      "16:00-17:00 - 263 calls\n",
      "17:00-18:00 - 419 calls\n",
      "18:00-19:00 - 531 calls\n",
      "19:00-20:00 - 400 calls\n",
      "20:00-21:00 - 137 calls\n",
      "21:00-22:00 - 51 calls\n",
      "22:00-23:00 - 20 calls\n",
      "23:00-24:00 - 16 calls\n"
     ]
    }
   ],
   "source": [
    "# Make 24 empty lists, one per hour.\n",
    "waiting_times_per_hour = [[] for _ in range(24)]\n",
    "\n",
    "# Split the data into 24 separate series, one for each hour of the day.\n",
    "current_time = 0\n",
    "for t in waiting_times_day:\n",
    "    current_hour = int(current_time // 60)\n",
    "    current_time += t\n",
    "    waiting_times_per_hour[current_hour].append(t)\n",
    "\n",
    "for hour, calls_in_hour in enumerate(waiting_times_per_hour):\n",
    "    print(f'{hour:02}:00-{hour + 1:02}:00 - {len(calls_in_hour)} calls')"
   ]
  },
  {
   "cell_type": "markdown",
   "metadata": {},
   "source": [
    "## Task 1: Plot the number of calls per hour\n",
    "Use Matplotlib to visualize the number of calls that arrive during each hour of the day, stored in the variable `waiting_times_per_hour`. The call numbers are shown in the output above. You should find an appropriate way to visualize it."
   ]
  },
  {
   "cell_type": "code",
   "execution_count": 70,
   "metadata": {
    "collapsed": true
   },
   "outputs": [
    {
     "data": {
      "text/plain": [
       "Text(0.5,1,'Number of calls per day')"
      ]
     },
     "execution_count": 70,
     "metadata": {},
     "output_type": "execute_result"
    },
    {
     "data": {
      "image/png": "[encoded data removed]",
      "text/plain": [
       "<Figure size 432x288 with 1 Axes>"
      ]
     },
     "metadata": {},
     "output_type": "display_data"
    }
   ],
   "source": [
    "freq_calls = []\n",
    "\n",
    "for i in waiting_times_per_hour:\n",
    "    freq_calls.append(len(i))\n",
    "\n",
    "plt.bar(range(24), freq_calls)\n",
    "plt.title('Number of calls per day')"
   ]
  },
  {
   "cell_type": "markdown",
   "metadata": {},
   "source": [
    "## Task 2: Plot a histogram of the durations for one hour\n",
    "Take the data for the 9th hour (so between 9am and 10am) and plot a histogram showing the distribution over waiting times between calls during that hour."
   ]
  },
  {
   "cell_type": "code",
   "execution_count": 100,
   "metadata": {
    "collapsed": true
   },
   "outputs": [
    {
     "name": "stdout",
     "output_type": "stream",
     "text": [
      "Sample Size: 254\n"
     ]
    },
    {
     "data": {
      "image/png": "[encoded data removed]",
      "text/plain": [
       "<Figure size 432x288 with 1 Axes>"
      ]
     },
     "metadata": {},
     "output_type": "display_data"
    }
   ],
   "source": [
    "print(\"Sample Size:\",len(waiting_times_per_hour[8]))\n",
    "\n",
    "\n",
    "plt.hist(waiting_times_per_hour[8], bins = 30, density = True, edgecolor = 'white')\n",
    "plt.title(\"Distribution of Call-Intervals between 9am to 10am\")\n",
    "plt.xlabel(\"Minutes before next call\")\n",
    "plt.show()\n"
   ]
  },
  {
   "cell_type": "markdown",
   "metadata": {},
   "source": [
    "## Task 3: Guess the distribution\n",
    "What type of distribution best represents the data in your histogram?\n",
    "\n",
    "* Identify a type of distribution. **In class you will use this distribution as your likelihood function in a Bayesian inference problem.**\n",
    "* Guess what the parameters of the distribution are. (This is just a guess for now. In class we will infer the values of the parameters.)\n",
    "* Plot the pdf of your best guess on top of your histogram, to see if they match.\n",
    "* **Important:** You have to normalize your histogram so that it will have the same vertical scale as the plot of the pdf. You can normalize a histogram by using the argument `density=True` in the `hist` function."
   ]
  },
  {
   "cell_type": "code",
   "execution_count": 105,
   "metadata": {
    "collapsed": true
   },
   "outputs": [
    {
     "name": "stdout",
     "output_type": "stream",
     "text": [
      "Mean: 0.234851968503937\n",
      "St. Dev.: 0.2165306803884137\n"
     ]
    }
   ],
   "source": [
    "import statistics as stats \n",
    "print(\"Mean:\",stats.mean(waiting_times_per_hour[8]))\n",
    "print(\"St. Dev.:\",stats.stdev(waiting_times_per_hour[8]))"
   ]
  },
  {
   "cell_type": "code",
   "execution_count": 145,
   "metadata": {},
   "outputs": [
    {
     "data": {
      "image/png": "[encoded data removed]",
      "text/plain": [
       "<Figure size 576x288 with 1 Axes>"
      ]
     },
     "metadata": {},
     "output_type": "display_data"
    }
   ],
   "source": [
    "### Two possible distributions ###\n",
    "\n",
    "# Set-up Probability distribution \n",
    "alpha = 2 \n",
    "beta = 10 \n",
    "distribution = sts.gamma(a = alpha, scale = 1/beta)\n",
    "\n",
    "plt.figure(figsize = (8,4))\n",
    "x = np.linspace(0,2)\n",
    "\n",
    "plt.hist(waiting_times_per_hour[8], bins = 30, density = True, edgecolor = 'white')\n",
    "plt.title(\"Distribution of Call-Intervals between 9am to 10am\")\n",
    "plt.xlabel(\"Minutes before next call\")\n",
    "\n",
    "plt.plot(x,(distribution.pdf(x)))\n",
    "plt.title(\"Gamma PDF\")\n",
    "plt.show()\n",
    "\n"
   ]
  },
  {
   "cell_type": "code",
   "execution_count": null,
   "metadata": {},
   "outputs": [],
   "source": []
  }
 ],
 "metadata": {
  "kernelspec": {
   "display_name": "Python 3",
   "language": "python",
   "name": "python3"
  },
  "language_info": {
   "codemirror_mode": {
    "name": "ipython",
    "version": 3
   },
   "file_extension": ".py",
   "mimetype": "text/x-python",
   "name": "python",
   "nbconvert_exporter": "python",
   "pygments_lexer": "ipython3",
   "version": "3.6.8"
  }
 },
 "nbformat": 4,
 "nbformat_minor": 2
}
